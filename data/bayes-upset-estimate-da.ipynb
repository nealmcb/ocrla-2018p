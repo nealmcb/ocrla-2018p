{
 "cells": [
  {
   "cell_type": "markdown",
   "metadata": {},
   "source": [
    "**Bayesian upset probability estimation for District Attorney-Public Administrator**\n",
    "\n",
    "This notebook calculates the \"Bayesian upset probability\". I.e.,\n",
    "given a tally of a uniform random sample of ballots, it calculates\n",
    "the Bayesian posterior probability that the outcome based on the full\n",
    "set of ballots would be different than a given reported outcome.\n",
    "\n",
    "The term \"Bayesian risk\" has been used for the same concept, but it has\n",
    "other meanings also, and Bayesian approaches\n",
    "have not (yet?) been shown to be risk-limiting for election auditing.\n",
    "\n",
    "See [Bayesian Tabulation Audits Explained and Extended](https://arxiv.org/abs/1801.00528)"
   ]
  },
  {
   "cell_type": "markdown",
   "metadata": {},
   "source": [
    "Written by Ron Rivest 11/3/2018.  (MIT License for code.)"
   ]
  },
  {
   "cell_type": "markdown",
   "metadata": {},
   "source": [
    "**Voting Rule:** \"California top-two\", aka first stage of a runoff election. If one candidate wins a majority, then they win.  Otherwise, the top two go on to the general election.\n"
   ]
  },
  {
   "cell_type": "markdown",
   "metadata": {},
   "source": [
    "**Caveats** The code has some minor approximations that shouldn't matter,\n",
    "and that make the code shorter, e.g. using Dirichlet approximation rather\n",
    "than Dirichlet-multinomial (OK since sample is very small compared to\n",
    "total number of votes).  It also uses a Haldane prior (setting all pseudocounts to 0)\n",
    "(OK I believe since sample contains all candidates).  Code could be tweaked\n",
    "easily for a slightly different Bayesian approach."
   ]
  },
  {
   "cell_type": "code",
   "execution_count": 1,
   "metadata": {},
   "outputs": [],
   "source": [
    "from collections import Counter\n",
    "import numpy as np"
   ]
  },
  {
   "cell_type": "markdown",
   "metadata": {},
   "source": [
    "## Contest parameters\n",
    "Configure the parameters for the District Attorney-Public Administrator election contest\n",
    "in Orange County, CA, 2018 Primary, using the same parameters as the BRAVO calculations\n",
    "for the same contest in the ocrla-2018p notebook, but it is pretty straightforward\n",
    "to change the `tally` and `sample_tally` for a different contest.\n",
    "\n",
    "For more details, see *Report on Orange County 2018 Pilot Risk-Limiting Audits*\n",
    "by Stephanie Singer and Neal McBurnett, for the Verified Voting Foundation"
   ]
  },
  {
   "cell_type": "markdown",
   "metadata": {},
   "source": [
    "Four candidates: R, S, M, A (first initial of last name only).\n",
    "Reported vote counts:\n",
    "\n",
    "     R: 209,148\n",
    "     S: 191,346\n",
    "     M: 121,818\n",
    "     A: 20,890\n",
    "     total: 543,202\n",
    "\n",
    "Tally of sampled ballots:\n",
    "\n",
    "     R: 22\n",
    "     S: 23\n",
    "     M: 9\n",
    "     A: 6\n",
    "     total: 60\n"
   ]
  },
  {
   "cell_type": "code",
   "execution_count": 2,
   "metadata": {},
   "outputs": [],
   "source": [
    "# Contest: District Attorney-Public Administrator \n",
    "tally = Counter({\"R\":209148, \"S\":191346, \"M\":121818, \"A\":20890})\n",
    "sample_tally = Counter({\"R\":22, \"S\":23, \"M\":9, \"A\":6})\n",
    "\n",
    "# Contest: Sheriff-Coroner\n",
    "#tally = Counter({\"B\":265059, \"N\":166848, \"H\":104623})\n",
    "#sample_tally = Counter({\"B\":28, \"N\":23, \"H\":10})"
   ]
  },
  {
   "cell_type": "markdown",
   "metadata": {},
   "source": [
    "## Helper functions"
   ]
  },
  {
   "cell_type": "code",
   "execution_count": 3,
   "metadata": {},
   "outputs": [],
   "source": [
    "def contest_outcome(tally):\n",
    "    \"\"\" \n",
    "    Return \"top two\" (aka runoff) outcome for given tally.\n",
    "    \n",
    "    tally is Counter mapping candidates to vote counts.\n",
    "    \"\"\"\n",
    "\n",
    "    total_votes = sum(tally.values())\n",
    "    top_two = tally.most_common(2)\n",
    "    if top_two[0][1] > total_votes/2:\n",
    "            return (top_two[0][0],)\n",
    "    return tuple(sorted([top_two[0][0], top_two[1][0]]))"
   ]
  },
  {
   "cell_type": "code",
   "execution_count": 4,
   "metadata": {},
   "outputs": [],
   "source": [
    "def gamma(x):\n",
    "    \"\"\" Return usual gamma(x), made 'safe' by returning 0 on 0 input. \"\"\"\n",
    "    if x<=0:\n",
    "        return 0\n",
    "    else:\n",
    "        return np.random.gamma(x)"
   ]
  },
  {
   "cell_type": "markdown",
   "metadata": {},
   "source": [
    "## Simulation"
   ]
  },
  {
   "cell_type": "code",
   "execution_count": 5,
   "metadata": {
    "scrolled": true
   },
   "outputs": [
    {
     "name": "stdout",
     "output_type": "stream",
     "text": [
      "Election tally: Counter({'R': 209148, 'S': 191346, 'M': 121818, 'A': 20890})\n",
      "Total valid votes: 543202\n",
      "Reported election outcome: ('R', 'S')\n",
      "\n",
      "Sample tally: Counter({'S': 23, 'R': 22, 'M': 9, 'A': 6})\n",
      "Total valid votes: 60\n",
      "Election outcome on sample: ('R', 'S')\n"
     ]
    }
   ],
   "source": [
    "# check outcome for actual election. Reported outcome was ('R', 'S')\n",
    "print(\"Election tally:\", tally)\n",
    "print(\"Total valid votes:\", sum(tally.values()))\n",
    "reported_outcome = contest_outcome(tally)\n",
    "print(\"Reported election outcome:\", reported_outcome)\n",
    "print()\n",
    "\n",
    "print(\"Sample tally:\", sample_tally)\n",
    "print(\"Total valid votes:\", sum(sample_tally.values()))\n",
    "print(\"Election outcome on sample:\", contest_outcome(sample_tally))"
   ]
  },
  {
   "cell_type": "code",
   "execution_count": 6,
   "metadata": {},
   "outputs": [],
   "source": [
    "# Make results reproducable\n",
    "np.random.seed(42)"
   ]
  },
  {
   "cell_type": "code",
   "execution_count": 7,
   "metadata": {},
   "outputs": [
    {
     "name": "stdout",
     "output_type": "stream",
     "text": [
      "Outcome         Percent\n",
      "  ('R', 'S')     93.48%\n",
      "  ('S',)          3.40%\n",
      "  ('R',)          1.81%\n",
      "  ('M', 'S')      0.73%\n",
      "  ('M', 'R')      0.48%\n",
      "  ('A', 'S')      0.07%\n",
      "  ('A', 'R')      0.04%\n"
     ]
    }
   ],
   "source": [
    "# 1,000,000 trials takes about 40 seconds\n",
    "n_trials = 1000000\n",
    "counts = Counter()\n",
    "\n",
    "for trial in range(n_trials):\n",
    "    trial_tally = Counter({candidate: gamma(votes)\n",
    "                    for candidate, votes in sample_tally.items()})\n",
    "    trial_outcome = contest_outcome(trial_tally)\n",
    "    counts[trial_outcome] += 1\n",
    "\n",
    "print(\"Outcome         Percent\")\n",
    "for outcome, cnt in counts.most_common():\n",
    "    print(\"  {:13s}  {:6.2%}\"\n",
    "          .format(str(outcome), cnt/n_trials))"
   ]
  },
  {
   "cell_type": "markdown",
   "metadata": {},
   "source": [
    "## Results"
   ]
  },
  {
   "cell_type": "code",
   "execution_count": 8,
   "metadata": {},
   "outputs": [
    {
     "name": "stdout",
     "output_type": "stream",
     "text": [
      "Bayesian upset probability estimate: 6.5%\n"
     ]
    }
   ],
   "source": [
    "print(\"Bayesian upset probability estimate: {:.1%}\".format(1.0 - (counts[reported_outcome] / n_trials)))"
   ]
  }
 ],
 "metadata": {
  "kernelspec": {
   "display_name": "Python 3",
   "language": "python",
   "name": "python3"
  },
  "language_info": {
   "codemirror_mode": {
    "name": "ipython",
    "version": 3
   },
   "file_extension": ".py",
   "mimetype": "text/x-python",
   "name": "python",
   "nbconvert_exporter": "python",
   "pygments_lexer": "ipython3",
   "version": "3.6.6"
  },
  "toc": {
   "colors": {
    "hover_highlight": "#DAA520",
    "running_highlight": "#FF0000",
    "selected_highlight": "#FFD700"
   },
   "moveMenuLeft": true,
   "nav_menu": {
    "height": "12px",
    "width": "252px"
   },
   "navigate_menu": true,
   "number_sections": false,
   "sideBar": true,
   "threshold": 4,
   "toc_cell": false,
   "toc_position": {
    "height": "82px",
    "left": "0px",
    "right": "1749.38px",
    "top": "110px",
    "width": "123.625px"
   },
   "toc_section_display": "none",
   "toc_window_display": true,
   "widenNotebook": false
  }
 },
 "nbformat": 4,
 "nbformat_minor": 2
}
