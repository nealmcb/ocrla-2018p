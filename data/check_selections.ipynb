{
 "cells": [
  {
   "cell_type": "markdown",
   "metadata": {},
   "source": [
    "# Demonstrate selection of samples for RLA\n",
    "\n",
    "Show how the selections used in the Orange County 2018 Primary risk-limiting audit can be reproduced.\n",
    "\n",
    "Other audits can be demonstrated by defining different parameters.\n",
    "\n",
    "Based on Rivest's `sampler` algorithm and code. Install python3 version from\n",
    "  https://github.com/nealmcb/rivest-sampler-tests/tree/python3-port"
   ]
  },
  {
   "cell_type": "code",
   "execution_count": 1,
   "metadata": {},
   "outputs": [],
   "source": [
    "import sys\n",
    "sys.path.insert(0, '../../rivest-sampler-tests/src')"
   ]
  },
  {
   "cell_type": "code",
   "execution_count": 2,
   "metadata": {},
   "outputs": [],
   "source": [
    "import demo_selections\n",
    "import codecs\n",
    "import csv\n",
    "from pprint import pprint"
   ]
  },
  {
   "cell_type": "markdown",
   "metadata": {},
   "source": [
    "## Define parameters"
   ]
  },
  {
   "cell_type": "code",
   "execution_count": 3,
   "metadata": {},
   "outputs": [],
   "source": [
    "countyname = \"Orange County\"\n",
    "manifestname = \"combined-manifest.csv\"\n",
    "seed = \"81330464974734480366\""
   ]
  },
  {
   "cell_type": "code",
   "execution_count": 4,
   "metadata": {
    "scrolled": false
   },
   "outputs": [
    {
     "name": "stdout",
     "output_type": "stream",
     "text": [
      "There are a total of 1447871 ballot sheets in the manifest.\n",
      "\n",
      "First we show how the seed is used by the sampler algorithm to select ballots\n",
      " from the CVR file. The seed, 81330464974734480366, is paired up\n",
      " with the numbers between 1 and the number of selections we need.\n",
      " We show details for the first 3:\n",
      "\n",
      "sha256('81330464974734480366,1')\n",
      " = 185e10255b09240b64e90a9695e7b269c92f3a3922b0a2c07073424903b3962e base 16\n",
      " = 11021703425134315629919584077641002952166874100921455850668298360203563472430 base 10.\n",
      " = 413627 mod 1447871. So the cvr_number of selected CVR number 1 is 413627.\n",
      "sha256('81330464974734480366,2')\n",
      " = d824cacae12e120cda675e00da600120246ffc2e40584de36f879ee9466b737c base 16\n",
      " = 97764581410703058116217141074916508336601353442740087313844070728367696737148 base 10.\n",
      " = 1356617 mod 1447871. So the cvr_number of selected CVR number 2 is 1356617.\n",
      "sha256('81330464974734480366,3')\n",
      " = a079d5cb992aaa98868984f42ca48255154bb4bcec86cd13bba504fc4d8af486 base 16\n",
      " = 72585319829132179025304998760378689218689383959997890201204372112762953462918 base 10.\n",
      " = 442474 mod 1447871. So the cvr_number of selected CVR number 3 is 442474.\n",
      "\n",
      "N=1447871, n=20\n",
      "First n cvr_numbers in expected selection order: [413627, 1356617, 442474, 1018359, 547199, 17147, 880924, 458877, 14293, 655931, 1266472, 41614, 291656, 267145, 998381, 766857, 380220, 173765, 588956, 269509]\n",
      "Those first n cvr_numbers in CVR file order: [14293, 17147, 41614, 173765, 267145, 269509, 291656, 380220, 413627, 442474, 458877, 547199, 588956, 655931, 766857, 880924, 998381, 1018359, 1266472, 1356617]\n",
      "Note: the imprinted_ids need to be looked up in the manifest file to put them in location order\n"
     ]
    }
   ],
   "source": [
    "# Show examples\n",
    "batches = []\n",
    "reader = csv.reader(codecs.open(manifestname, 'r', 'iso-8859-1'))\n",
    "next(reader) # Skip header row\n",
    "for row in reader:\n",
    "    batchname = row[0]\n",
    "    count = int(row[1])\n",
    "    batches.append(demo_selections.Batch(countyname, \"\", batchname, count, \"\"))\n",
    "\n",
    "N = sum(batch.cardcount for batch in batches)\n",
    "print(\"There are a total of %d ballot sheets in the manifest.\\n\" % N)\n",
    "\n",
    "demo_selections.sampler_example(N, 20, seed, 3)"
   ]
  },
  {
   "cell_type": "code",
   "execution_count": 5,
   "metadata": {},
   "outputs": [
    {
     "name": "stdout",
     "output_type": "stream",
     "text": [
      "['Orange County--1-3-288-117',\n",
      " 'Orange County--48256-242',\n",
      " 'Orange County--1-3-388-203',\n",
      " 'Orange County--1-9-19-150',\n",
      " 'Orange County--1-4-174-66',\n",
      " 'Orange County--1-1-64-290',\n",
      " 'Orange County--1-6-468-72',\n",
      " 'Orange County--1-3-445-92',\n",
      " 'Orange County--1-1-55-256',\n",
      " 'Orange County--1-5-125-321',\n",
      " 'Orange County--14075-163',\n",
      " 'Orange County--1-1-142-206',\n",
      " 'Orange County--1-2-442-66',\n",
      " 'Orange County--1-2-346-264',\n",
      " 'Orange County--1-8-267-53',\n",
      " 'Orange County--1-6-4-105',\n",
      " 'Orange County--1-3-173-99',\n",
      " 'Orange County--1-2-13-223',\n",
      " 'Orange County--1-4-323-77',\n",
      " 'Orange County--1-2-354-291']\n"
     ]
    }
   ],
   "source": [
    "# Print first 20 in order they were picked\n",
    "selections = demo_selections.select_ballots_to_audit(seed, batches, 20)\n",
    "pprint(selections)"
   ]
  },
  {
   "cell_type": "code",
   "execution_count": 6,
   "metadata": {},
   "outputs": [
    {
     "name": "stdout",
     "output_type": "stream",
     "text": [
      "['Orange County--1-1-55-256',\n",
      " 'Orange County--1-1-64-290',\n",
      " 'Orange County--1-1-142-206',\n",
      " 'Orange County--1-2-13-223',\n",
      " 'Orange County--1-2-346-264',\n",
      " 'Orange County--1-2-354-291',\n",
      " 'Orange County--1-2-442-66',\n",
      " 'Orange County--1-3-173-99',\n",
      " 'Orange County--1-3-288-117',\n",
      " 'Orange County--1-3-388-203',\n",
      " 'Orange County--1-3-445-92',\n",
      " 'Orange County--1-4-174-66',\n",
      " 'Orange County--1-4-323-77',\n",
      " 'Orange County--1-5-125-321',\n",
      " 'Orange County--1-6-4-105',\n",
      " 'Orange County--1-6-468-72',\n",
      " 'Orange County--1-8-267-53',\n",
      " 'Orange County--1-9-19-150',\n",
      " 'Orange County--14075-163',\n",
      " 'Orange County--48256-242']\n"
     ]
    }
   ],
   "source": [
    "# Print first 20 in order by imprintedId\n",
    "sorted_selections = selections[:]\n",
    "sorted_selections.sort(key=demo_selections.natural_keys)\n",
    "pprint(sorted_selections)"
   ]
  },
  {
   "cell_type": "code",
   "execution_count": 7,
   "metadata": {},
   "outputs": [
    {
     "name": "stdout",
     "output_type": "stream",
     "text": [
      "0: Orange County--1-1-55-256\n",
      "20: Orange County--1-1-2-54\n",
      "40: Orange County--1-1-128-202\n",
      "60: Orange County--1-1-359-15\n",
      "80: Orange County--1-1-402-142\n",
      "100: Orange County--1-1-67-85\n",
      "120: Orange County--1-1-444-146\n",
      "140: Orange County--1-1-18-302\n"
     ]
    }
   ],
   "source": [
    "# Print first selected ballot id from each of the 8 batches of 20\n",
    "selections = demo_selections.select_ballots_to_audit(seed, batches, 160)\n",
    "for index in range(0, 160, 20):\n",
    "    sheet = selections[index:index+20]\n",
    "    sheet.sort(key=demo_selections.natural_keys)\n",
    "    print(\"%d: %s\" % (index, sheet[0]))"
   ]
  }
 ],
 "metadata": {
  "kernelspec": {
   "display_name": "Python 3",
   "language": "python",
   "name": "python3"
  },
  "language_info": {
   "codemirror_mode": {
    "name": "ipython",
    "version": 3
   },
   "file_extension": ".py",
   "mimetype": "text/x-python",
   "name": "python",
   "nbconvert_exporter": "python",
   "pygments_lexer": "ipython3",
   "version": "3.6.7"
  },
  "toc": {
   "colors": {
    "hover_highlight": "#DAA520",
    "running_highlight": "#FF0000",
    "selected_highlight": "#FFD700"
   },
   "moveMenuLeft": true,
   "nav_menu": {
    "height": "30px",
    "width": "252px"
   },
   "navigate_menu": true,
   "number_sections": true,
   "sideBar": true,
   "threshold": 4,
   "toc_cell": false,
   "toc_section_display": "block",
   "toc_window_display": false,
   "widenNotebook": false
  }
 },
 "nbformat": 4,
 "nbformat_minor": 2
}
