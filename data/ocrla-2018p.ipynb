{
 "cells": [
  {
   "cell_type": "markdown",
   "metadata": {},
   "source": [
    "# Orange County Risk-Limiting Audit for 2018 Primary Election"
   ]
  },
  {
   "cell_type": "markdown",
   "metadata": {},
   "source": [
    "This jupyter notebook demonstrates the analysis of the audits of 5 contests in the Orange County California 2018 primary election.\n",
    "\n",
    "Three of the five contests were used to drive a risk-limiting audit, and all achieved the risk limit of 20%: Assessor, Auditor-Controller, and Clerk-Recorder.\n",
    "\n",
    "Two contests were audited opportunistically: District Attorney-Public Administrator and Sheriff-Coroner.\n",
    "\n",
    "See the [README](../README.md) for the methodology."
   ]
  },
  {
   "cell_type": "code",
   "execution_count": 1,
   "metadata": {},
   "outputs": [],
   "source": [
    "import sys\n",
    "sys.path.append(\"../src/rla_utils\")"
   ]
  },
  {
   "cell_type": "code",
   "execution_count": 2,
   "metadata": {},
   "outputs": [],
   "source": [
    "import json\n",
    "import parse_hart\n",
    "import analyze_rounds\n",
    "from collections import namedtuple\n",
    "\n",
    "from IPython.core.display import HTML, Markdown, display"
   ]
  },
  {
   "cell_type": "code",
   "execution_count": 3,
   "metadata": {},
   "outputs": [],
   "source": [
    "def printmd(string):\n",
    "    display(Markdown(string))"
   ]
  },
  {
   "cell_type": "markdown",
   "metadata": {},
   "source": [
    "## Download contest results from Orange County elections website"
   ]
  },
  {
   "cell_type": "code",
   "execution_count": 4,
   "metadata": {
    "scrolled": false
   },
   "outputs": [
    {
     "name": "stdout",
     "output_type": "stream",
     "text": [
      "Archive:  media.zip\n",
      "  inflating: contest_table.txt       \n"
     ]
    }
   ],
   "source": [
    "%%bash\n",
    "wget -nv -N http://ocvote.com/fileadmin/live/pri2018/media.zip\n",
    "unzip -o media.zip"
   ]
  },
  {
   "cell_type": "markdown",
   "metadata": {},
   "source": [
    "## Parse the contest results\n",
    "Generate `contests.json` and `cvr.csv` files.\n",
    "\n",
    "The cvr.csv file only contains the contests identified by the `-C` option, i.e. the five auditable countywide contests in the given election."
   ]
  },
  {
   "cell_type": "code",
   "execution_count": 5,
   "metadata": {},
   "outputs": [],
   "source": [
    "!python3 ../src/rla_utils/parse_hart.py -C '[12, 13, 14, 15, 16]' contest_table.txt > parse_hart.out\n",
    "\n",
    "!mv /tmp/cvr.csv /tmp/contests.json ."
   ]
  },
  {
   "cell_type": "markdown",
   "metadata": {},
   "source": [
    "## Run the audit\n",
    "\n",
    "At this point the data is available for the ColoradoRLA tool (AKA RLATool), which was run separately.\n",
    "Auditors rolled the dice, pulled the selected ballots as described in the [check_selections.ipynb](check_selections.ipynb) notebook, and entered the data in to RLATool.\n",
    "\n",
    "The corresponding results from the Orange County audit have been exported from RLATool via `rla_export`, and pre-loaded into this repository into the file `all_contest_audit_details_by_cvr.json` in two directories,\n",
    "`initial-export` and `final-export`."
   ]
  },
  {
   "cell_type": "markdown",
   "metadata": {},
   "source": [
    "## Calculate sample sizes and risk levels\n",
    "analyze_rounds.py is used both to calculate the initial sample size (when no ballot cards have been observed yet), and to calculate risk levels after samples have been drawn and observed, and calculate any expansion of the audit that may be necessary. \n",
    "\n",
    "The code currently assumes that all contests are California top-two primary contests: either a single outright winner if they got more than 50% of all ballots cast for a valid candidate, or two winners to advance to the general election.\n",
    "\n",
    "For each contest, it shows the reported votes and the votes observed in the sample. It then evaluates the various margins to be checked. There are two situations.\n",
    "\n",
    "If the reported votes imply an outright winner, we are auditing just the margin between each candidate and a pool of all the other candidates.  That is the case, for example, in the Assessor contest.\n",
    "\n",
    "If there was no apparent outright winner, we are auditing two things: whether there should have been an outright winner, and whether the two reported winners actually beat each of the reported losers. We do pairwise comparisons for each of the corresponding margins.\n",
    "\n",
    "In either situation, the \"Max\" line indicates which of the margins calls for the largest sample size, from this point forward.\n",
    "\n",
    "The actual sample size is determined manually based on these calculations, and incorporates tradeoffs between the risk of not ending up with convincing evidence, and thus needing to expand the audit to another round, vs the possibility that a sample might be a fortunate one in which the audit could finish early.\n",
    "\n",
    "Note that if there are additional margins near the \"Max\" margin, samples unfavorable to confirming either one may drive the audit to expand, so a somewhat larger sample size than indicated is prudent.\n",
    "\n",
    "### Initial sample sizes\n",
    "\n",
    "Run analyze_rounds on the `initial-export` data, to get initial sample sizes."
   ]
  },
  {
   "cell_type": "code",
   "execution_count": 6,
   "metadata": {},
   "outputs": [
    {
     "name": "stdout",
     "output_type": "stream",
     "text": [
      "Contest: Assessor, with 3 candidates. 0 samples entered\r\n",
      "\r\n",
      "  358634 reported votes, 0 sample votes for CLAUDE PARRISH\r\n",
      "  90631 reported votes, 0 sample votes for RICHARD B. RAMIREZ\r\n",
      "  70831 reported votes, 0 sample votes for NATHANIEL FERNANDEZ EPSTEIN\r\n",
      "\r\n",
      "       Sample 25: Risk 100.00% with margin: 37.91%; counts W: 358634 L: 161462 w: 0 l: 0 for CLAUDE PARRISH vs pool\r\n",
      "       Sample 9: Risk 100.00% with margin: 65.15%; counts W: 429465 L: 90631 w: 0 l: 0 for pool vs RICHARD B. RAMIREZ\r\n",
      "       Sample 7: Risk 100.00% with margin: 72.76%; counts W: 449265 L: 70831 w: 0 l: 0 for pool vs NATHANIEL FERNANDEZ EPSTEIN\r\n",
      "\r\n",
      "  Max: Sample 25: Risk 100.00% with margin: 37.91%; counts W: 358634 L: 161462 w: 0 l: 0 for CLAUDE PARRISH vs pool\r\n",
      "\r\n",
      "\r\n",
      "Contest: Auditor-Controller, with 2 candidates. 0 samples entered\r\n",
      "\r\n",
      "  369704 reported votes, 0 sample votes for ERIC H. WOOLERY\r\n",
      "  127768 reported votes, 0 sample votes for TONI SMART\r\n",
      "\r\n",
      "       Sample 15: Risk 100.00% with margin: 48.63%; counts W: 369704 L: 127768 w: 0 l: 0 for ERIC H. WOOLERY vs pool\r\n",
      "       Sample 15: Risk 100.00% with margin: 48.63%; counts W: 369704 L: 127768 w: 0 l: 0 for pool vs TONI SMART\r\n",
      "\r\n",
      "  Max: Sample 15: Risk 100.00% with margin: 48.63%; counts W: 369704 L: 127768 w: 0 l: 0 for ERIC H. WOOLERY vs pool\r\n",
      "\r\n",
      "\r\n",
      "Contest: Clerk-Recorder, with 2 candidates. 0 samples entered\r\n",
      "\r\n",
      "  407638 reported votes, 0 sample votes for HUGH NGUYEN\r\n",
      "  107926 reported votes, 0 sample votes for STEVE ROCCO\r\n",
      "\r\n",
      "       Sample 11: Risk 100.00% with margin: 58.13%; counts W: 407638 L: 107926 w: 0 l: 0 for HUGH NGUYEN vs pool\r\n",
      "       Sample 11: Risk 100.00% with margin: 58.13%; counts W: 407638 L: 107926 w: 0 l: 0 for pool vs STEVE ROCCO\r\n",
      "\r\n",
      "  Max: Sample 11: Risk 100.00% with margin: 58.13%; counts W: 407638 L: 107926 w: 0 l: 0 for HUGH NGUYEN vs pool\r\n",
      "\r\n",
      "\r\n",
      "Contest: District Attorney-Public Administrator, with 4 candidates. 0 samples entered\r\n",
      "\r\n",
      "  209148 reported votes, 0 sample votes for TONY RACKAUCKAS\r\n",
      "  191346 reported votes, 0 sample votes for TODD SPITZER\r\n",
      "  121818 reported votes, 0 sample votes for BRETT MURDOCK\r\n",
      "  20890 reported votes, 0 sample votes for LENORE ALBERT-SHERIDAN\r\n",
      "\r\n",
      "       Sample 65: Risk 100.00% with margin: 22.99%; counts W: 334054 L: 209148 w: 0 l: 0 for pool vs TONY RACKAUCKAS\r\n",
      "       Sample 40: Risk 100.00% with margin: 29.55%; counts W: 351856 L: 191346 w: 0 l: 0 for pool vs TODD SPITZER\r\n",
      "       Sample 12: Risk 100.00% with margin: 55.15%; counts W: 421384 L: 121818 w: 0 l: 0 for pool vs BRETT MURDOCK\r\n",
      "       Sample 4: Risk 100.00% with margin: 92.31%; counts W: 522312 L: 20890 w: 0 l: 0 for pool vs LENORE ALBERT-SHERIDAN\r\n",
      "       Sample 50: Risk 100.00% with margin: 26.39%; counts W: 209148 L: 121818 w: 0 l: 0 for TONY RACKAUCKAS vs BRETT MURDOCK\r\n",
      "       Sample 5: Risk 100.00% with margin: 81.84%; counts W: 209148 L: 20890 w: 0 l: 0 for TONY RACKAUCKAS vs LENORE ALBERT-SHERIDAN\r\n",
      "       Sample 69: Risk 100.00% with margin: 22.20%; counts W: 191346 L: 121818 w: 0 l: 0 for TODD SPITZER vs BRETT MURDOCK\r\n",
      "       Sample 6: Risk 100.00% with margin: 80.31%; counts W: 191346 L: 20890 w: 0 l: 0 for TODD SPITZER vs LENORE ALBERT-SHERIDAN\r\n",
      "\r\n",
      "  Max: Sample 69: Risk 100.00% with margin: 22.20%; counts W: 191346 L: 121818 w: 0 l: 0 for TODD SPITZER vs BRETT MURDOCK\r\n",
      "\r\n",
      "\r\n",
      "Contest: Sheriff-Coroner, with 3 candidates. 0 samples entered\r\n",
      "\r\n",
      "  265059 reported votes, 0 sample votes for DON BARNES\r\n",
      "  166848 reported votes, 0 sample votes for DUKE NGUYEN\r\n",
      "  104623 reported votes, 0 sample votes for DAVID C. HARRINGTON\r\n",
      "\r\n",
      "       Sample 22621: Risk 100.00% with margin: 1.20%; counts W: 271471 L: 265059 w: 0 l: 0 for pool vs DON BARNES\r\n",
      "       Sample 25: Risk 100.00% with margin: 37.80%; counts W: 369682 L: 166848 w: 0 l: 0 for pool vs DUKE NGUYEN\r\n",
      "       Sample 10: Risk 100.00% with margin: 61.00%; counts W: 431907 L: 104623 w: 0 l: 0 for pool vs DAVID C. HARRINGTON\r\n",
      "       Sample 19: Risk 100.00% with margin: 43.40%; counts W: 265059 L: 104623 w: 0 l: 0 for DON BARNES vs DAVID C. HARRINGTON\r\n",
      "       Sample 65: Risk 100.00% with margin: 22.92%; counts W: 166848 L: 104623 w: 0 l: 0 for DUKE NGUYEN vs DAVID C. HARRINGTON\r\n",
      "\r\n",
      "  Max: Sample 22621: Risk 100.00% with margin: 1.20%; counts W: 271471 L: 265059 w: 0 l: 0 for pool vs DON BARNES\r\n",
      "\r\n",
      "\r\n"
     ]
    }
   ],
   "source": [
    "!python3 ../src/rla_utils/analyze_rounds.py contests.json initial-export"
   ]
  },
  {
   "cell_type": "markdown",
   "metadata": {},
   "source": [
    "### Final risk levels and sample sizes for other contests\n",
    "\n",
    "Run analyze_rounds on the `final-export` data, to confirm that the risk limit was met for 3 contests, and calculate how many additional samples might meet the risk limit for the other contests."
   ]
  },
  {
   "cell_type": "code",
   "execution_count": 7,
   "metadata": {},
   "outputs": [
    {
     "name": "stdout",
     "output_type": "stream",
     "text": [
      "Contest: Assessor, with 3 candidates. 160 samples entered\r\n",
      "\r\n",
      "  358634 reported votes, 40 sample votes for CLAUDE PARRISH\r\n",
      "  90631 reported votes, 11 sample votes for RICHARD B. RAMIREZ\r\n",
      "  70831 reported votes, 12 sample votes for NATHANIEL FERNANDEZ EPSTEIN\r\n",
      "\r\n",
      "       Sample 0: Risk 15.02% with margin: 37.91%; counts W: 358634 L: 161462 w: 40 l: 23 for CLAUDE PARRISH vs pool\r\n",
      "       Sample 0: Risk 0.00% with margin: 65.15%; counts W: 429465 L: 90631 w: 52 l: 11 for pool vs RICHARD B. RAMIREZ\r\n",
      "       Sample 0: Risk 0.00% with margin: 72.76%; counts W: 449265 L: 70831 w: 51 l: 12 for pool vs NATHANIEL FERNANDEZ EPSTEIN\r\n",
      "\r\n",
      "  Max: Sample 0: Risk 15.02% with margin: 37.91%; counts W: 358634 L: 161462 w: 40 l: 23 for CLAUDE PARRISH vs pool\r\n",
      "\r\n",
      "\r\n",
      "Contest: Auditor-Controller, with 2 candidates. 160 samples entered\r\n",
      "\r\n",
      "  369704 reported votes, 46 sample votes for ERIC H. WOOLERY\r\n",
      "  127768 reported votes, 17 sample votes for TONI SMART\r\n",
      "\r\n",
      "       Sample 0: Risk 0.10% with margin: 48.63%; counts W: 369704 L: 127768 w: 46 l: 17 for ERIC H. WOOLERY vs pool\r\n",
      "       Sample 0: Risk 0.10% with margin: 48.63%; counts W: 369704 L: 127768 w: 46 l: 17 for pool vs TONI SMART\r\n",
      "\r\n",
      "  Max: Sample 0: Risk 0.10% with margin: 48.63%; counts W: 369704 L: 127768 w: 46 l: 17 for ERIC H. WOOLERY vs pool\r\n",
      "\r\n",
      "\r\n",
      "Contest: Clerk-Recorder, with 2 candidates. 160 samples entered\r\n",
      "\r\n",
      "  407638 reported votes, 38 sample votes for HUGH NGUYEN\r\n",
      "  107926 reported votes, 15 sample votes for STEVE ROCCO\r\n",
      "\r\n",
      "       Sample 0: Risk 1.29% with margin: 58.13%; counts W: 407638 L: 107926 w: 38 l: 15 for HUGH NGUYEN vs pool\r\n",
      "       Sample 0: Risk 1.29% with margin: 58.13%; counts W: 407638 L: 107926 w: 38 l: 15 for pool vs STEVE ROCCO\r\n",
      "\r\n",
      "  Max: Sample 0: Risk 1.29% with margin: 58.13%; counts W: 407638 L: 107926 w: 38 l: 15 for HUGH NGUYEN vs pool\r\n",
      "\r\n",
      "\r\n",
      "Contest: District Attorney-Public Administrator, with 4 candidates. 160 samples entered\r\n",
      "\r\n",
      "  209148 reported votes, 22 sample votes for TONY RACKAUCKAS\r\n",
      "  191346 reported votes, 23 sample votes for TODD SPITZER\r\n",
      "  121818 reported votes, 9 sample votes for BRETT MURDOCK\r\n",
      "  20890 reported votes, 6 sample votes for LENORE ALBERT-SHERIDAN\r\n",
      "\r\n",
      "       Sample 0: Risk 12.05% with margin: 22.99%; counts W: 334054 L: 209148 w: 38 l: 22 for pool vs TONY RACKAUCKAS\r\n",
      "       Sample 5: Risk 21.80% with margin: 29.55%; counts W: 351856 L: 191346 w: 37 l: 23 for pool vs TODD SPITZER\r\n",
      "       Sample 0: Risk 0.00% with margin: 55.15%; counts W: 421384 L: 121818 w: 51 l: 9 for pool vs BRETT MURDOCK\r\n",
      "       Sample 0: Risk 0.00% with margin: 92.31%; counts W: 522312 L: 20890 w: 54 l: 6 for pool vs LENORE ALBERT-SHERIDAN\r\n",
      "       Sample 0: Risk 9.12% with margin: 26.39%; counts W: 209148 L: 121818 w: 22 l: 9 for TONY RACKAUCKAS vs BRETT MURDOCK\r\n",
      "       Sample 0: Risk 5.39% with margin: 81.84%; counts W: 209148 L: 20890 w: 22 l: 6 for TONY RACKAUCKAS vs LENORE ALBERT-SHERIDAN\r\n",
      "       Sample 0: Risk 9.52% with margin: 22.20%; counts W: 191346 L: 121818 w: 23 l: 9 for TODD SPITZER vs BRETT MURDOCK\r\n",
      "       Sample 0: Risk 2.22% with margin: 80.31%; counts W: 191346 L: 20890 w: 23 l: 6 for TODD SPITZER vs LENORE ALBERT-SHERIDAN\r\n",
      "\r\n",
      "  Max: Sample 5: Risk 21.80% with margin: 29.55%; counts W: 351856 L: 191346 w: 37 l: 23 for pool vs TODD SPITZER\r\n",
      "\r\n",
      "\r\n",
      "Contest: Sheriff-Coroner, with 3 candidates. 160 samples entered\r\n",
      "\r\n",
      "  265059 reported votes, 28 sample votes for DON BARNES\r\n",
      "  166848 reported votes, 23 sample votes for DUKE NGUYEN\r\n",
      "  104623 reported votes, 10 sample votes for DAVID C. HARRINGTON\r\n",
      "\r\n",
      "       Sample 21845: Risk 94.61% with margin: 1.20%; counts W: 271471 L: 265059 w: 33 l: 28 for pool vs DON BARNES\r\n",
      "       Sample 7: Risk 28.28% with margin: 37.80%; counts W: 369682 L: 166848 w: 38 l: 23 for pool vs DUKE NGUYEN\r\n",
      "       Sample 0: Risk 0.00% with margin: 61.00%; counts W: 431907 L: 104623 w: 51 l: 10 for pool vs DAVID C. HARRINGTON\r\n",
      "       Sample 0: Risk 1.23% with margin: 43.40%; counts W: 265059 L: 104623 w: 28 l: 10 for DON BARNES vs DAVID C. HARRINGTON\r\n",
      "       Sample 0: Risk 11.73% with margin: 22.92%; counts W: 166848 L: 104623 w: 23 l: 10 for DUKE NGUYEN vs DAVID C. HARRINGTON\r\n",
      "\r\n",
      "  Max: Sample 21845: Risk 94.61% with margin: 1.20%; counts W: 271471 L: 265059 w: 33 l: 28 for pool vs DON BARNES\r\n",
      "\r\n",
      "\r\n"
     ]
    }
   ],
   "source": [
    "!python3 ../src/rla_utils/analyze_rounds.py contests.json final-export"
   ]
  },
  {
   "cell_type": "markdown",
   "metadata": {},
   "source": [
    "## Explore the data further\n",
    "\n",
    "Here we show how to explore the data live in the notebook."
   ]
  },
  {
   "cell_type": "code",
   "execution_count": 8,
   "metadata": {},
   "outputs": [],
   "source": [
    "contests_file = \"contests.json\""
   ]
  },
  {
   "cell_type": "code",
   "execution_count": 9,
   "metadata": {},
   "outputs": [],
   "source": [
    "contests = json.load(open(contests_file, \"r\"))"
   ]
  },
  {
   "cell_type": "markdown",
   "metadata": {},
   "source": [
    "`contests` is a dictionary of data on all the contests. We're only interested in the five which were selected for audit."
   ]
  },
  {
   "cell_type": "code",
   "execution_count": 10,
   "metadata": {
    "scrolled": true
   },
   "outputs": [
    {
     "data": {
      "text/plain": [
       "['Assessor',\n",
       " 'Auditor-Controller',\n",
       " 'Clerk-Recorder',\n",
       " 'District Attorney-Public Administrator',\n",
       " 'Sheriff-Coroner']"
      ]
     },
     "execution_count": 10,
     "metadata": {},
     "output_type": "execute_result"
    }
   ],
   "source": [
    "[contest['name'] for contest in contests.values() if 'selected' in contest]"
   ]
  },
  {
   "cell_type": "markdown",
   "metadata": {},
   "source": [
    "Show the results in the assessor contest"
   ]
  },
  {
   "cell_type": "code",
   "execution_count": 11,
   "metadata": {},
   "outputs": [],
   "source": [
    "contest = contests['Assessor']"
   ]
  },
  {
   "cell_type": "code",
   "execution_count": 12,
   "metadata": {},
   "outputs": [
    {
     "data": {
      "text/plain": [
       "{'ballots': 635224,\n",
       " 'choices': {'CLAUDE PARRISH': {'absentee_votes': 238395,\n",
       "   'early_votes': 2115,\n",
       "   'election_votes': 118124,\n",
       "   'name': 'CLAUDE PARRISH',\n",
       "   'votes': 358634},\n",
       "  'NATHANIEL FERNANDEZ EPSTEIN': {'absentee_votes': 42540,\n",
       "   'early_votes': 685,\n",
       "   'election_votes': 27606,\n",
       "   'name': 'NATHANIEL FERNANDEZ EPSTEIN',\n",
       "   'votes': 70831},\n",
       "  'RICHARD B. RAMIREZ': {'absentee_votes': 53562,\n",
       "   'early_votes': 725,\n",
       "   'election_votes': 36344,\n",
       "   'name': 'RICHARD B. RAMIREZ',\n",
       "   'votes': 90631}},\n",
       " 'losers': ['NATHANIEL FERNANDEZ EPSTEIN'],\n",
       " 'majority_margin': 0.37910693410447305,\n",
       " 'margin': 0.038069894788654406,\n",
       " 'name': 'Assessor',\n",
       " 'precedence': 140,\n",
       " 'precinct_count': 1561,\n",
       " 'registered': 1481881,\n",
       " 'selected': True,\n",
       " 'winners': ['CLAUDE PARRISH', 'RICHARD B. RAMIREZ']}"
      ]
     },
     "execution_count": 12,
     "metadata": {},
     "output_type": "execute_result"
    }
   ],
   "source": [
    "contest"
   ]
  },
  {
   "cell_type": "code",
   "execution_count": 13,
   "metadata": {},
   "outputs": [
    {
     "name": "stdout",
     "output_type": "stream",
     "text": [
      "56.46% CLAUDE PARRISH\n",
      "14.27% RICHARD B. RAMIREZ\n",
      "11.15% NATHANIEL FERNANDEZ EPSTEIN\n",
      "18.12% NO_VOTE\n"
     ]
    }
   ],
   "source": [
    "votes = 0\n",
    "for choice in contest['choices'].values():\n",
    "    votes += choice['votes']\n",
    "    print(\"{:.2%} {:s}\".format(choice['votes'] / contest['ballots'], choice['name']))\n",
    "\n",
    "print(\"{:.2%} {:s}\".format((contest['ballots'] - votes) / contest['ballots'], 'NO_VOTE'))"
   ]
  },
  {
   "cell_type": "code",
   "execution_count": 14,
   "metadata": {
    "scrolled": true
   },
   "outputs": [
    {
     "data": {
      "text/markdown": [
       "|Vote share|Votes|Candidate|\n",
       "|---|---|:---|\n",
       "|56.46%|358634|CLAUDE PARRISH|\n",
       "|14.27%|90631|RICHARD B. RAMIREZ|\n",
       "|11.15%|70831|NATHANIEL FERNANDEZ EPSTEIN|\n",
       "|18.12%|115128|<b>RESIDUAL VOTE</b>|\n"
      ],
      "text/plain": [
       "<IPython.core.display.Markdown object>"
      ]
     },
     "metadata": {},
     "output_type": "display_data"
    }
   ],
   "source": [
    "votes = 0\n",
    "table = \"|Vote share|Votes|Candidate|\\n\"\n",
    "table += \"|---|---|:---|\\n\"\n",
    "\n",
    "for choice in contest['choices'].values():\n",
    "    votes += choice['votes']\n",
    "    table += \"|{:.2%}|{:d}|{:s}|\\n\".format(choice['votes'] / contest['ballots'], choice['votes'], choice['name'])\n",
    "\n",
    "residual = contest['ballots'] - votes\n",
    "table += \"|{:.2%}|{:d}|{:s}|\\n\".format(residual / contest['ballots'], residual, '<b>RESIDUAL VOTE</b>')\n",
    "\n",
    "printmd(table)"
   ]
  }
 ],
 "metadata": {
  "kernelspec": {
   "display_name": "Python 3",
   "language": "python",
   "name": "python3"
  },
  "language_info": {
   "codemirror_mode": {
    "name": "ipython",
    "version": 3
   },
   "file_extension": ".py",
   "mimetype": "text/x-python",
   "name": "python",
   "nbconvert_exporter": "python",
   "pygments_lexer": "ipython3",
   "version": "3.6.7"
  },
  "toc": {
   "colors": {
    "hover_highlight": "#DAA520",
    "running_highlight": "#FF0000",
    "selected_highlight": "#FFD700"
   },
   "moveMenuLeft": true,
   "nav_menu": {
    "height": "12px",
    "width": "252px"
   },
   "navigate_menu": true,
   "number_sections": true,
   "sideBar": true,
   "threshold": 4,
   "toc_cell": false,
   "toc_section_display": "block",
   "toc_window_display": false,
   "widenNotebook": false
  }
 },
 "nbformat": 4,
 "nbformat_minor": 2
}
