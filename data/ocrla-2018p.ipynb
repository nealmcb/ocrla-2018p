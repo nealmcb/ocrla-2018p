{
 "cells": [
  {
   "cell_type": "markdown",
   "metadata": {},
   "source": [
    "# Orange County Risk-Limiting Audit for 2018 Primary Election"
   ]
  },
  {
   "cell_type": "markdown",
   "metadata": {},
   "source": [
    "This jupyter notebook demonstrates the analysis of the audits of 5 contests in the Orange County California 2018 primary election.\n",
    "\n",
    "Three of the five contests were used to drive a risk-limiting audit, and all achieved the risk limit of 20%: Assessor, Auditor-Controller, and Clerk-Recorder.\n",
    "\n",
    "Two contests were audited opportunistically: District Attorney-Public Administrator and Sheriff-Coroner.\n",
    "\n",
    "See the [README](../README.md) for the methodology."
   ]
  },
  {
   "cell_type": "code",
   "execution_count": 99,
   "metadata": {},
   "outputs": [
    {
     "data": {
      "application/json": {
       "Software versions": [
        {
         "module": "Python",
         "version": "3.6.6 64bit [GCC 8.0.1 20180414 (experimental) [trunk revision 259383]"
        },
        {
         "module": "IPython",
         "version": "5.5.0"
        },
        {
         "module": "OS",
         "version": "Linux 4.15.0 38 generic x86_64 with Ubuntu 18.04 bionic"
        },
        {
         "module": "numpy",
         "version": "1.13.3"
        },
        {
         "module": "scipy",
         "version": "0.19.1"
        },
        {
         "module": "matplotlib",
         "version": "2.1.1"
        }
       ]
      },
      "text/html": [
       "<table><tr><th>Software</th><th>Version</th></tr><tr><td>Python</td><td>3.6.6 64bit [GCC 8.0.1 20180414 (experimental) [trunk revision 259383]</td></tr><tr><td>IPython</td><td>5.5.0</td></tr><tr><td>OS</td><td>Linux 4.15.0 38 generic x86_64 with Ubuntu 18.04 bionic</td></tr><tr><td>numpy</td><td>1.13.3</td></tr><tr><td>scipy</td><td>0.19.1</td></tr><tr><td>matplotlib</td><td>2.1.1</td></tr><tr><td colspan='2'>Wed Oct 31 14:26:34 2018 MDT</td></tr></table>"
      ],
      "text/latex": [
       "\\begin{tabular}{|l|l|}\\hline\n",
       "{\\bf Software} & {\\bf Version} \\\\ \\hline\\hline\n",
       "Python & 3.6.6 64bit [GCC 8.0.1 20180414 (experimental) [trunk revision 259383] \\\\ \\hline\n",
       "IPython & 5.5.0 \\\\ \\hline\n",
       "OS & Linux 4.15.0 38 generic x86\\_64 with Ubuntu 18.04 bionic \\\\ \\hline\n",
       "numpy & 1.13.3 \\\\ \\hline\n",
       "scipy & 0.19.1 \\\\ \\hline\n",
       "matplotlib & 2.1.1 \\\\ \\hline\n",
       "\\hline \\multicolumn{2}{|l|}{Wed Oct 31 14:26:34 2018 MDT} \\\\ \\hline\n",
       "\\end{tabular}\n"
      ],
      "text/plain": [
       "Software versions\n",
       "Python 3.6.6 64bit [GCC 8.0.1 20180414 (experimental) [trunk revision 259383]\n",
       "IPython 5.5.0\n",
       "OS Linux 4.15.0 38 generic x86_64 with Ubuntu 18.04 bionic\n",
       "numpy 1.13.3\n",
       "scipy 0.19.1\n",
       "matplotlib 2.1.1\n",
       "Wed Oct 31 14:26:34 2018 MDT"
      ]
     },
     "execution_count": 99,
     "metadata": {},
     "output_type": "execute_result"
    }
   ],
   "source": [
    "%load_ext version_information\n",
    "%version_information numpy, scipy, matplotlib"
   ]
  },
  {
   "cell_type": "code",
   "execution_count": 2,
   "metadata": {},
   "outputs": [],
   "source": [
    "import sys\n",
    "sys.path.append(\"../src/rla_utils\")"
   ]
  },
  {
   "cell_type": "code",
   "execution_count": 77,
   "metadata": {},
   "outputs": [],
   "source": [
    "import json\n",
    "import parse_hart\n",
    "import analyze_rounds\n",
    "from collections import namedtuple\n",
    "\n",
    "from IPython.core.display import HTML, Markdown, display"
   ]
  },
  {
   "cell_type": "code",
   "execution_count": 78,
   "metadata": {},
   "outputs": [
    {
     "data": {
      "text/markdown": [
       "|c1|c2|\n",
       "|---|---|\n",
       "| 42|hello|\n",
       "| 17|world|\n"
      ],
      "text/plain": [
       "<IPython.core.display.Markdown object>"
      ]
     },
     "metadata": {},
     "output_type": "display_data"
    },
    {
     "name": "stdout",
     "output_type": "stream",
     "text": [
      "|c1|c2|\n",
      "|---|---|\n",
      "| 42|hello|\n",
      "| 17|world|\n",
      "\n"
     ]
    }
   ],
   "source": [
    "def printmd(string):\n",
    "    display(Markdown(string))\n",
    "\n",
    "table = \"|c1|c2|\\n\"\n",
    "table += \"|---|---|\\n\"\n",
    "\n",
    "for e in [{'c1': 42, 'c2': \"hello\"}, {'c1': 17, 'c2': \"world\"}]:\n",
    "    table += '| {}|{}|\\n'.format(e['c1'], e['c2'])\n",
    "\n",
    "printmd(table)\n",
    "print(table)\n"
   ]
  },
  {
   "cell_type": "code",
   "execution_count": 32,
   "metadata": {},
   "outputs": [],
   "source": [
    "class Struct(object):\n",
    "    \"\"\"Comment removed\"\"\"\n",
    "    def __init__(self, data):\n",
    "        for name, value in data.items():\n",
    "            setattr(self, name, self._wrap(value))\n",
    "\n",
    "    def _wrap(self, value):\n",
    "        if isinstance(value, (tuple, list, set, frozenset)): \n",
    "            return type(value)([self._wrap(v) for v in value])\n",
    "        else:\n",
    "            return Struct(value) if isinstance(value, dict) else value"
   ]
  },
  {
   "cell_type": "code",
   "execution_count": 44,
   "metadata": {},
   "outputs": [],
   "source": [
    "# From https://stackoverflow.com/questions/6578986/how-to-convert-json-data-into-a-python-object/15882054#15882054\n",
    "def _json_object_hook(d): return namedtuple('X', d.keys())(*d.values())\n",
    "def json2obj(data): return json.loads(data, object_hook=_json_object_hook)"
   ]
  },
  {
   "cell_type": "markdown",
   "metadata": {},
   "source": [
    "## Download contest results from Orange County elections website"
   ]
  },
  {
   "cell_type": "code",
   "execution_count": 4,
   "metadata": {
    "scrolled": false
   },
   "outputs": [
    {
     "name": "stdout",
     "output_type": "stream",
     "text": [
      "Archive:  media.zip\n",
      "  inflating: contest_table.txt       \n"
     ]
    }
   ],
   "source": [
    "%%bash\n",
    "wget -nv -N http://ocvote.com/fileadmin/live/pri2018/media.zip\n",
    "unzip -o media.zip"
   ]
  },
  {
   "cell_type": "markdown",
   "metadata": {},
   "source": [
    "## Parse the contest results\n",
    "Generate `contests.json` and `cvr.csv` files.\n",
    "\n",
    "The cvr.csv file only contains the contests identified by the `-C` option, i.e. the five auditable countywide contests in the given election."
   ]
  },
  {
   "cell_type": "code",
   "execution_count": 2,
   "metadata": {},
   "outputs": [],
   "source": [
    "!python3 ../src/rla_utils/parse_hart.py -C '[12, 13, 14, 15, 16]' contest_table.txt > parse_hart.out\n",
    "\n",
    "!mv /tmp/cvr.csv /tmp/contests.json ."
   ]
  },
  {
   "cell_type": "markdown",
   "metadata": {},
   "source": [
    "## Run the audit\n",
    "The results of the audit have been exported from RLATool via `rla_export`, and pre-loaded into this repository into the file `all_contest_audit_details_by_cvr.json` in two directories,\n",
    "`initial-export` and `final-export`."
   ]
  },
  {
   "cell_type": "code",
   "execution_count": 6,
   "metadata": {},
   "outputs": [],
   "source": [
    "contests_file = \"contests.json\""
   ]
  },
  {
   "cell_type": "code",
   "execution_count": 50,
   "metadata": {},
   "outputs": [],
   "source": [
    "contests = json.load(open(contests_file, \"r\"))"
   ]
  },
  {
   "cell_type": "code",
   "execution_count": 33,
   "metadata": {},
   "outputs": [],
   "source": [
    "# contests = Struct(json.load(open(contests_file, \"r\")))"
   ]
  },
  {
   "cell_type": "code",
   "execution_count": 47,
   "metadata": {},
   "outputs": [
    {
     "ename": "ValueError",
     "evalue": "Type names and field names must be valid identifiers: 'JOSH JONES'",
     "output_type": "error",
     "traceback": [
      "\u001b[0;31m---------------------------------------------------------------------------\u001b[0m",
      "\u001b[0;31mValueError\u001b[0m                                Traceback (most recent call last)",
      "\u001b[0;32m<ipython-input-47-37f7b97bfedb>\u001b[0m in \u001b[0;36m<module>\u001b[0;34m()\u001b[0m\n\u001b[0;32m----> 1\u001b[0;31m \u001b[0mcontests\u001b[0m \u001b[0;34m=\u001b[0m \u001b[0mjson\u001b[0m\u001b[0;34m.\u001b[0m\u001b[0mload\u001b[0m\u001b[0;34m(\u001b[0m\u001b[0mopen\u001b[0m\u001b[0;34m(\u001b[0m\u001b[0mcontests_file\u001b[0m\u001b[0;34m,\u001b[0m \u001b[0;34m\"r\"\u001b[0m\u001b[0;34m)\u001b[0m\u001b[0;34m,\u001b[0m \u001b[0mobject_hook\u001b[0m\u001b[0;34m=\u001b[0m\u001b[0m_json_object_hook\u001b[0m\u001b[0;34m)\u001b[0m\u001b[0;34m\u001b[0m\u001b[0m\n\u001b[0m",
      "\u001b[0;32m/usr/lib/python3.6/json/__init__.py\u001b[0m in \u001b[0;36mload\u001b[0;34m(fp, cls, object_hook, parse_float, parse_int, parse_constant, object_pairs_hook, **kw)\u001b[0m\n\u001b[1;32m    297\u001b[0m         \u001b[0mcls\u001b[0m\u001b[0;34m=\u001b[0m\u001b[0mcls\u001b[0m\u001b[0;34m,\u001b[0m \u001b[0mobject_hook\u001b[0m\u001b[0;34m=\u001b[0m\u001b[0mobject_hook\u001b[0m\u001b[0;34m,\u001b[0m\u001b[0;34m\u001b[0m\u001b[0m\n\u001b[1;32m    298\u001b[0m         \u001b[0mparse_float\u001b[0m\u001b[0;34m=\u001b[0m\u001b[0mparse_float\u001b[0m\u001b[0;34m,\u001b[0m \u001b[0mparse_int\u001b[0m\u001b[0;34m=\u001b[0m\u001b[0mparse_int\u001b[0m\u001b[0;34m,\u001b[0m\u001b[0;34m\u001b[0m\u001b[0m\n\u001b[0;32m--> 299\u001b[0;31m         parse_constant=parse_constant, object_pairs_hook=object_pairs_hook, **kw)\n\u001b[0m\u001b[1;32m    300\u001b[0m \u001b[0;34m\u001b[0m\u001b[0m\n\u001b[1;32m    301\u001b[0m \u001b[0;34m\u001b[0m\u001b[0m\n",
      "\u001b[0;32m/usr/lib/python3.6/json/__init__.py\u001b[0m in \u001b[0;36mloads\u001b[0;34m(s, encoding, cls, object_hook, parse_float, parse_int, parse_constant, object_pairs_hook, **kw)\u001b[0m\n\u001b[1;32m    365\u001b[0m     \u001b[0;32mif\u001b[0m \u001b[0mparse_constant\u001b[0m \u001b[0;32mis\u001b[0m \u001b[0;32mnot\u001b[0m \u001b[0;32mNone\u001b[0m\u001b[0;34m:\u001b[0m\u001b[0;34m\u001b[0m\u001b[0m\n\u001b[1;32m    366\u001b[0m         \u001b[0mkw\u001b[0m\u001b[0;34m[\u001b[0m\u001b[0;34m'parse_constant'\u001b[0m\u001b[0;34m]\u001b[0m \u001b[0;34m=\u001b[0m \u001b[0mparse_constant\u001b[0m\u001b[0;34m\u001b[0m\u001b[0m\n\u001b[0;32m--> 367\u001b[0;31m     \u001b[0;32mreturn\u001b[0m \u001b[0mcls\u001b[0m\u001b[0;34m(\u001b[0m\u001b[0;34m**\u001b[0m\u001b[0mkw\u001b[0m\u001b[0;34m)\u001b[0m\u001b[0;34m.\u001b[0m\u001b[0mdecode\u001b[0m\u001b[0;34m(\u001b[0m\u001b[0ms\u001b[0m\u001b[0;34m)\u001b[0m\u001b[0;34m\u001b[0m\u001b[0m\n\u001b[0m",
      "\u001b[0;32m/usr/lib/python3.6/json/decoder.py\u001b[0m in \u001b[0;36mdecode\u001b[0;34m(self, s, _w)\u001b[0m\n\u001b[1;32m    337\u001b[0m \u001b[0;34m\u001b[0m\u001b[0m\n\u001b[1;32m    338\u001b[0m         \"\"\"\n\u001b[0;32m--> 339\u001b[0;31m         \u001b[0mobj\u001b[0m\u001b[0;34m,\u001b[0m \u001b[0mend\u001b[0m \u001b[0;34m=\u001b[0m \u001b[0mself\u001b[0m\u001b[0;34m.\u001b[0m\u001b[0mraw_decode\u001b[0m\u001b[0;34m(\u001b[0m\u001b[0ms\u001b[0m\u001b[0;34m,\u001b[0m \u001b[0midx\u001b[0m\u001b[0;34m=\u001b[0m\u001b[0m_w\u001b[0m\u001b[0;34m(\u001b[0m\u001b[0ms\u001b[0m\u001b[0;34m,\u001b[0m \u001b[0;36m0\u001b[0m\u001b[0;34m)\u001b[0m\u001b[0;34m.\u001b[0m\u001b[0mend\u001b[0m\u001b[0;34m(\u001b[0m\u001b[0;34m)\u001b[0m\u001b[0;34m)\u001b[0m\u001b[0;34m\u001b[0m\u001b[0m\n\u001b[0m\u001b[1;32m    340\u001b[0m         \u001b[0mend\u001b[0m \u001b[0;34m=\u001b[0m \u001b[0m_w\u001b[0m\u001b[0;34m(\u001b[0m\u001b[0ms\u001b[0m\u001b[0;34m,\u001b[0m \u001b[0mend\u001b[0m\u001b[0;34m)\u001b[0m\u001b[0;34m.\u001b[0m\u001b[0mend\u001b[0m\u001b[0;34m(\u001b[0m\u001b[0;34m)\u001b[0m\u001b[0;34m\u001b[0m\u001b[0m\n\u001b[1;32m    341\u001b[0m         \u001b[0;32mif\u001b[0m \u001b[0mend\u001b[0m \u001b[0;34m!=\u001b[0m \u001b[0mlen\u001b[0m\u001b[0;34m(\u001b[0m\u001b[0ms\u001b[0m\u001b[0;34m)\u001b[0m\u001b[0;34m:\u001b[0m\u001b[0;34m\u001b[0m\u001b[0m\n",
      "\u001b[0;32m/usr/lib/python3.6/json/decoder.py\u001b[0m in \u001b[0;36mraw_decode\u001b[0;34m(self, s, idx)\u001b[0m\n\u001b[1;32m    353\u001b[0m         \"\"\"\n\u001b[1;32m    354\u001b[0m         \u001b[0;32mtry\u001b[0m\u001b[0;34m:\u001b[0m\u001b[0;34m\u001b[0m\u001b[0m\n\u001b[0;32m--> 355\u001b[0;31m             \u001b[0mobj\u001b[0m\u001b[0;34m,\u001b[0m \u001b[0mend\u001b[0m \u001b[0;34m=\u001b[0m \u001b[0mself\u001b[0m\u001b[0;34m.\u001b[0m\u001b[0mscan_once\u001b[0m\u001b[0;34m(\u001b[0m\u001b[0ms\u001b[0m\u001b[0;34m,\u001b[0m \u001b[0midx\u001b[0m\u001b[0;34m)\u001b[0m\u001b[0;34m\u001b[0m\u001b[0m\n\u001b[0m\u001b[1;32m    356\u001b[0m         \u001b[0;32mexcept\u001b[0m \u001b[0mStopIteration\u001b[0m \u001b[0;32mas\u001b[0m \u001b[0merr\u001b[0m\u001b[0;34m:\u001b[0m\u001b[0;34m\u001b[0m\u001b[0m\n\u001b[1;32m    357\u001b[0m             \u001b[0;32mraise\u001b[0m \u001b[0mJSONDecodeError\u001b[0m\u001b[0;34m(\u001b[0m\u001b[0;34m\"Expecting value\"\u001b[0m\u001b[0;34m,\u001b[0m \u001b[0ms\u001b[0m\u001b[0;34m,\u001b[0m \u001b[0merr\u001b[0m\u001b[0;34m.\u001b[0m\u001b[0mvalue\u001b[0m\u001b[0;34m)\u001b[0m \u001b[0;32mfrom\u001b[0m \u001b[0;32mNone\u001b[0m\u001b[0;34m\u001b[0m\u001b[0m\n",
      "\u001b[0;32m<ipython-input-44-7476c6750e78>\u001b[0m in \u001b[0;36m_json_object_hook\u001b[0;34m(d)\u001b[0m\n\u001b[1;32m      1\u001b[0m \u001b[0;31m# From https://stackoverflow.com/questions/6578986/how-to-convert-json-data-into-a-python-object/15882054#15882054\u001b[0m\u001b[0;34m\u001b[0m\u001b[0;34m\u001b[0m\u001b[0m\n\u001b[0;32m----> 2\u001b[0;31m \u001b[0;32mdef\u001b[0m \u001b[0m_json_object_hook\u001b[0m\u001b[0;34m(\u001b[0m\u001b[0md\u001b[0m\u001b[0;34m)\u001b[0m\u001b[0;34m:\u001b[0m \u001b[0;32mreturn\u001b[0m \u001b[0mnamedtuple\u001b[0m\u001b[0;34m(\u001b[0m\u001b[0;34m'X'\u001b[0m\u001b[0;34m,\u001b[0m \u001b[0md\u001b[0m\u001b[0;34m.\u001b[0m\u001b[0mkeys\u001b[0m\u001b[0;34m(\u001b[0m\u001b[0;34m)\u001b[0m\u001b[0;34m)\u001b[0m\u001b[0;34m(\u001b[0m\u001b[0;34m*\u001b[0m\u001b[0md\u001b[0m\u001b[0;34m.\u001b[0m\u001b[0mvalues\u001b[0m\u001b[0;34m(\u001b[0m\u001b[0;34m)\u001b[0m\u001b[0;34m)\u001b[0m\u001b[0;34m\u001b[0m\u001b[0m\n\u001b[0m\u001b[1;32m      3\u001b[0m \u001b[0;32mdef\u001b[0m \u001b[0mjson2obj\u001b[0m\u001b[0;34m(\u001b[0m\u001b[0mdata\u001b[0m\u001b[0;34m)\u001b[0m\u001b[0;34m:\u001b[0m \u001b[0;32mreturn\u001b[0m \u001b[0mjson\u001b[0m\u001b[0;34m.\u001b[0m\u001b[0mloads\u001b[0m\u001b[0;34m(\u001b[0m\u001b[0mdata\u001b[0m\u001b[0;34m,\u001b[0m \u001b[0mobject_hook\u001b[0m\u001b[0;34m=\u001b[0m\u001b[0m_json_object_hook\u001b[0m\u001b[0;34m)\u001b[0m\u001b[0;34m\u001b[0m\u001b[0m\n",
      "\u001b[0;32m/usr/lib/python3.6/collections/__init__.py\u001b[0m in \u001b[0;36mnamedtuple\u001b[0;34m(typename, field_names, verbose, rename, module)\u001b[0m\n\u001b[1;32m    399\u001b[0m         \u001b[0;32mif\u001b[0m \u001b[0;32mnot\u001b[0m \u001b[0mname\u001b[0m\u001b[0;34m.\u001b[0m\u001b[0misidentifier\u001b[0m\u001b[0;34m(\u001b[0m\u001b[0;34m)\u001b[0m\u001b[0;34m:\u001b[0m\u001b[0;34m\u001b[0m\u001b[0m\n\u001b[1;32m    400\u001b[0m             raise ValueError('Type names and field names must be valid '\n\u001b[0;32m--> 401\u001b[0;31m                              'identifiers: %r' % name)\n\u001b[0m\u001b[1;32m    402\u001b[0m         \u001b[0;32mif\u001b[0m \u001b[0m_iskeyword\u001b[0m\u001b[0;34m(\u001b[0m\u001b[0mname\u001b[0m\u001b[0;34m)\u001b[0m\u001b[0;34m:\u001b[0m\u001b[0;34m\u001b[0m\u001b[0m\n\u001b[1;32m    403\u001b[0m             raise ValueError('Type names and field names cannot be a '\n",
      "\u001b[0;31mValueError\u001b[0m: Type names and field names must be valid identifiers: 'JOSH JONES'"
     ]
    }
   ],
   "source": [
    "# contests = json.load(open(contests_file, \"r\"), object_hook=_json_object_hook)"
   ]
  },
  {
   "cell_type": "markdown",
   "metadata": {},
   "source": [
    "`contests` is a dictionary of data on all the contests. We're only interested in the five which were selected for audit."
   ]
  },
  {
   "cell_type": "markdown",
   "metadata": {},
   "source": [
    "old: assumes they're structs"
   ]
  },
  {
   "cell_type": "code",
   "execution_count": 42,
   "metadata": {},
   "outputs": [
    {
     "data": {
      "text/plain": [
       "<__main__.Struct at 0x7fb1f0588198>"
      ]
     },
     "execution_count": 42,
     "metadata": {},
     "output_type": "execute_result"
    }
   ],
   "source": [
    "contests.Assessor"
   ]
  },
  {
   "cell_type": "code",
   "execution_count": 38,
   "metadata": {},
   "outputs": [
    {
     "data": {
      "text/plain": [
       "'<__main__.Struct object at 0x7fb1f15b7ef0>'"
      ]
     },
     "execution_count": 38,
     "metadata": {},
     "output_type": "execute_result"
    }
   ],
   "source": [
    "repr(contests)"
   ]
  },
  {
   "cell_type": "code",
   "execution_count": 51,
   "metadata": {},
   "outputs": [
    {
     "data": {
      "text/plain": [
       "[]"
      ]
     },
     "execution_count": 51,
     "metadata": {},
     "output_type": "execute_result"
    }
   ],
   "source": [
    "[contest for contest in contests if 'selected' in contest]"
   ]
  },
  {
   "cell_type": "markdown",
   "metadata": {},
   "source": [
    "Back to good code"
   ]
  },
  {
   "cell_type": "code",
   "execution_count": 52,
   "metadata": {
    "scrolled": true
   },
   "outputs": [
    {
     "data": {
      "text/plain": [
       "[{'ballots': 635224,\n",
       "  'choices': {'CLAUDE PARRISH': {'absentee_votes': 238395,\n",
       "    'early_votes': 2115,\n",
       "    'election_votes': 118124,\n",
       "    'name': 'CLAUDE PARRISH',\n",
       "    'votes': 358634},\n",
       "   'NATHANIEL FERNANDEZ EPSTEIN': {'absentee_votes': 42540,\n",
       "    'early_votes': 685,\n",
       "    'election_votes': 27606,\n",
       "    'name': 'NATHANIEL FERNANDEZ EPSTEIN',\n",
       "    'votes': 70831},\n",
       "   'RICHARD B. RAMIREZ': {'absentee_votes': 53562,\n",
       "    'early_votes': 725,\n",
       "    'election_votes': 36344,\n",
       "    'name': 'RICHARD B. RAMIREZ',\n",
       "    'votes': 90631}},\n",
       "  'losers': ['NATHANIEL FERNANDEZ EPSTEIN'],\n",
       "  'majority_margin': 0.37910693410447305,\n",
       "  'margin': 0.038069894788654406,\n",
       "  'name': 'Assessor',\n",
       "  'precedence': 140,\n",
       "  'precinct_count': 1561,\n",
       "  'registered': 1481881,\n",
       "  'selected': True,\n",
       "  'winners': ['CLAUDE PARRISH', 'RICHARD B. RAMIREZ']},\n",
       " {'ballots': 635224,\n",
       "  'choices': {'ERIC H. WOOLERY': {'absentee_votes': 243989,\n",
       "    'early_votes': 2382,\n",
       "    'election_votes': 123333,\n",
       "    'name': 'ERIC H. WOOLERY',\n",
       "    'votes': 369704},\n",
       "   'TONI SMART': {'absentee_votes': 75459,\n",
       "    'early_votes': 1003,\n",
       "    'election_votes': 51306,\n",
       "    'name': 'TONI SMART',\n",
       "    'votes': 127768}},\n",
       "  'losers': [],\n",
       "  'majority_margin': 0.4863308889746559,\n",
       "  'margin': 1.0,\n",
       "  'name': 'Auditor-Controller',\n",
       "  'precedence': 143,\n",
       "  'precinct_count': 1561,\n",
       "  'registered': 1481881,\n",
       "  'selected': True,\n",
       "  'winners': ['ERIC H. WOOLERY', 'TONI SMART']},\n",
       " {'ballots': 635224,\n",
       "  'choices': {'HUGH NGUYEN': {'absentee_votes': 273054,\n",
       "    'early_votes': 2737,\n",
       "    'election_votes': 131847,\n",
       "    'name': 'HUGH NGUYEN',\n",
       "    'votes': 407638},\n",
       "   'STEVE ROCCO': {'absentee_votes': 58752,\n",
       "    'early_votes': 720,\n",
       "    'election_votes': 48454,\n",
       "    'name': 'STEVE ROCCO',\n",
       "    'votes': 107926}},\n",
       "  'losers': [],\n",
       "  'majority_margin': 0.581328409276055,\n",
       "  'margin': 1.0,\n",
       "  'name': 'Clerk-Recorder',\n",
       "  'precedence': 145,\n",
       "  'precinct_count': 1561,\n",
       "  'registered': 1481881,\n",
       "  'selected': True,\n",
       "  'winners': ['HUGH NGUYEN', 'STEVE ROCCO']},\n",
       " {'ballots': 635224,\n",
       "  'choices': {'BRETT MURDOCK': {'absentee_votes': 76491,\n",
       "    'early_votes': 1230,\n",
       "    'election_votes': 44097,\n",
       "    'name': 'BRETT MURDOCK',\n",
       "    'votes': 121818},\n",
       "   'LENORE ALBERT-SHERIDAN': {'absentee_votes': 12106,\n",
       "    'early_votes': 173,\n",
       "    'election_votes': 8611,\n",
       "    'name': 'LENORE ALBERT-SHERIDAN',\n",
       "    'votes': 20890},\n",
       "   'TODD SPITZER': {'absentee_votes': 120748,\n",
       "    'early_votes': 1098,\n",
       "    'election_votes': 69500,\n",
       "    'name': 'TODD SPITZER',\n",
       "    'votes': 191346},\n",
       "   'TONY RACKAUCKAS': {'absentee_votes': 138333,\n",
       "    'early_votes': 1199,\n",
       "    'election_votes': 69616,\n",
       "    'name': 'TONY RACKAUCKAS',\n",
       "    'votes': 209148}},\n",
       "  'losers': ['BRETT MURDOCK', 'LENORE ALBERT-SHERIDAN'],\n",
       "  'majority_margin': -0.2299439250960048,\n",
       "  'margin': 0.127996583223184,\n",
       "  'name': 'District Attorney-Public Administrator',\n",
       "  'precedence': 147,\n",
       "  'precinct_count': 1561,\n",
       "  'registered': 1481881,\n",
       "  'selected': True,\n",
       "  'winners': ['TONY RACKAUCKAS', 'TODD SPITZER']},\n",
       " {'ballots': 635224,\n",
       "  'choices': {'DAVID C. HARRINGTON': {'absentee_votes': 63517,\n",
       "    'early_votes': 654,\n",
       "    'election_votes': 40452,\n",
       "    'name': 'DAVID C. HARRINGTON',\n",
       "    'votes': 104623},\n",
       "   'DON BARNES': {'absentee_votes': 170603,\n",
       "    'early_votes': 1541,\n",
       "    'election_votes': 92915,\n",
       "    'name': 'DON BARNES',\n",
       "    'votes': 265059},\n",
       "   'DUKE NGUYEN': {'absentee_votes': 109497,\n",
       "    'early_votes': 1431,\n",
       "    'election_votes': 55920,\n",
       "    'name': 'DUKE NGUYEN',\n",
       "    'votes': 166848}},\n",
       "  'losers': ['DAVID C. HARRINGTON'],\n",
       "  'majority_margin': -0.011950869476077758,\n",
       "  'margin': 0.11597673941811269,\n",
       "  'name': 'Sheriff-Coroner',\n",
       "  'precedence': 151,\n",
       "  'precinct_count': 1561,\n",
       "  'registered': 1481881,\n",
       "  'selected': True,\n",
       "  'winners': ['DON BARNES', 'DUKE NGUYEN']}]"
      ]
     },
     "execution_count": 52,
     "metadata": {},
     "output_type": "execute_result"
    }
   ],
   "source": [
    "[contest for contest in contests.values() if 'selected' in contest]"
   ]
  },
  {
   "cell_type": "code",
   "execution_count": 53,
   "metadata": {},
   "outputs": [],
   "source": [
    "contest = contests['Assessor']"
   ]
  },
  {
   "cell_type": "code",
   "execution_count": 54,
   "metadata": {},
   "outputs": [
    {
     "data": {
      "text/plain": [
       "{'ballots': 635224,\n",
       " 'choices': {'CLAUDE PARRISH': {'absentee_votes': 238395,\n",
       "   'early_votes': 2115,\n",
       "   'election_votes': 118124,\n",
       "   'name': 'CLAUDE PARRISH',\n",
       "   'votes': 358634},\n",
       "  'NATHANIEL FERNANDEZ EPSTEIN': {'absentee_votes': 42540,\n",
       "   'early_votes': 685,\n",
       "   'election_votes': 27606,\n",
       "   'name': 'NATHANIEL FERNANDEZ EPSTEIN',\n",
       "   'votes': 70831},\n",
       "  'RICHARD B. RAMIREZ': {'absentee_votes': 53562,\n",
       "   'early_votes': 725,\n",
       "   'election_votes': 36344,\n",
       "   'name': 'RICHARD B. RAMIREZ',\n",
       "   'votes': 90631}},\n",
       " 'losers': ['NATHANIEL FERNANDEZ EPSTEIN'],\n",
       " 'majority_margin': 0.37910693410447305,\n",
       " 'margin': 0.038069894788654406,\n",
       " 'name': 'Assessor',\n",
       " 'precedence': 140,\n",
       " 'precinct_count': 1561,\n",
       " 'registered': 1481881,\n",
       " 'selected': True,\n",
       " 'winners': ['CLAUDE PARRISH', 'RICHARD B. RAMIREZ']}"
      ]
     },
     "execution_count": 54,
     "metadata": {},
     "output_type": "execute_result"
    }
   ],
   "source": [
    "contest"
   ]
  },
  {
   "cell_type": "code",
   "execution_count": 73,
   "metadata": {},
   "outputs": [
    {
     "name": "stdout",
     "output_type": "stream",
     "text": [
      "56.46% CLAUDE PARRISH\n",
      "14.27% RICHARD B. RAMIREZ\n",
      "11.15% NATHANIEL FERNANDEZ EPSTEIN\n",
      "18.12% NO_VOTE\n"
     ]
    }
   ],
   "source": [
    "votes = 0\n",
    "for choice in contest['choices'].values():\n",
    "    votes += choice['votes']\n",
    "    print(\"{:.2%} {:s}\".format(choice['votes'] / contest['ballots'], choice['name']))\n",
    "\n",
    "print(\"{:.2%} {:s}\".format((contest['ballots'] - votes) / contest['ballots'], 'NO_VOTE'))"
   ]
  },
  {
   "cell_type": "code",
   "execution_count": 75,
   "metadata": {},
   "outputs": [
    {
     "data": {
      "text/html": [
       "<a href=\"http://example.com\">link</a>"
      ],
      "text/plain": [
       "<IPython.core.display.HTML object>"
      ]
     },
     "execution_count": 75,
     "metadata": {},
     "output_type": "execute_result"
    }
   ],
   "source": [
    "HTML('<a href=\"http://example.com\">link</a>')"
   ]
  },
  {
   "cell_type": "code",
   "execution_count": 95,
   "metadata": {
    "scrolled": true
   },
   "outputs": [
    {
     "data": {
      "text/markdown": [
       "|Vote share|Votes|Candidate|\n",
       "|---|---|:---|\n",
       "|56.46%|358634|CLAUDE PARRISH|\n",
       "|14.27%|90631|RICHARD B. RAMIREZ|\n",
       "|11.15%|70831|NATHANIEL FERNANDEZ EPSTEIN|\n",
       "|18.12%|115128|<b>RESIDUAL VOTE</b>|\n"
      ],
      "text/plain": [
       "<IPython.core.display.Markdown object>"
      ]
     },
     "metadata": {},
     "output_type": "display_data"
    }
   ],
   "source": [
    "votes = 0\n",
    "table = \"|Vote share|Votes|Candidate|\\n\"\n",
    "table += \"|---|---|:---|\\n\"\n",
    "\n",
    "for choice in contest['choices'].values():\n",
    "    votes += choice['votes']\n",
    "    table += \"|{:.2%}|{:d}|{:s}|\\n\".format(choice['votes'] / contest['ballots'], choice['votes'], choice['name'])\n",
    "\n",
    "residual = contest['ballots'] - votes\n",
    "table += \"|{:.2%}|{:d}|{:s}|\\n\".format(residual / contest['ballots'], residual, '<b>RESIDUAL VOTE</b>')\n",
    "\n",
    "printmd(table)"
   ]
  },
  {
   "cell_type": "code",
   "execution_count": 96,
   "metadata": {},
   "outputs": [
    {
     "name": "stdout",
     "output_type": "stream",
     "text": [
      "|Vote share|Votes|Candidate|\n",
      "|---|---|:---|\n",
      "|56.46%|358634|CLAUDE PARRISH|\n",
      "|14.27%|90631|RICHARD B. RAMIREZ|\n",
      "|11.15%|70831|NATHANIEL FERNANDEZ EPSTEIN|\n",
      "|18.12%|115128|<b>RESIDUAL VOTE</b>|\n",
      "\n"
     ]
    }
   ],
   "source": [
    "print(table)"
   ]
  },
  {
   "cell_type": "code",
   "execution_count": 76,
   "metadata": {},
   "outputs": [
    {
     "data": {
      "text/markdown": [
       "|c1|c2|\n",
       "|---|---|\n",
       "| 42|hello|\n",
       "| 17|world|\n"
      ],
      "text/plain": [
       "<IPython.core.display.Markdown object>"
      ]
     },
     "metadata": {},
     "output_type": "display_data"
    },
    {
     "name": "stdout",
     "output_type": "stream",
     "text": [
      "|c1|c2|\n",
      "|---|---|\n",
      "| 42|hello|\n",
      "| 17|world|\n",
      "\n"
     ]
    }
   ],
   "source": [
    "from IPython.display import Markdown, display\n",
    "def printmd(string):\n",
    "    display(Markdown(string))\n",
    "\n",
    "table = \"|c1|c2|\\n\"\n",
    "table += \"|---|---|\\n\"\n",
    "\n",
    "for e in [{'c1': 42, 'c2': \"hello\"}, {'c1': 17, 'c2': \"world\"}]:\n",
    "    table += '| {}|{}|\\n'.format(e['c1'], e['c2'])\n",
    "\n",
    "printmd(table)\n",
    "print(table)\n"
   ]
  },
  {
   "cell_type": "markdown",
   "metadata": {},
   "source": [
    "## Calculate sample sizes and risk levels\n",
    "analyze_rounds.py is used both to calculate the initial sample size (when no ballot cards have been observed yet), and to calculate risk levels after samples have been drawn and observed, and calculate any expansion of the audit that may be necessary. \n",
    "\n",
    "The code currently assumes that all contests are California top-two primary contests: either a single outright winner if they got more than 50% of all ballots cast for a valid candidate, or two winners to advance to the general election.\n",
    "\n",
    "For each contest, it shows the reported votes and the votes observed in the sample. It then evaluates the various margins to be checked. There are two situations.\n",
    "\n",
    "If the reported votes imply an outright winner, we are auditing just the margin between each candidate and a pool of all the other candidates.  That is the case, for example, in the Assessor contest.\n",
    "\n",
    "If there was no apparent outright winner, we are auditing two things: whether there should have been an outright winner, and whether the two reported winners actually beat each of the reported losers. We do pairwise comparisons for each of the corresponding margins.\n",
    "\n",
    "In either situation, the \"Max\" line indicates which of the margins calls for the largest sample size, from this point forward.\n",
    "\n",
    "The actual sample size is determined manually based on these calculations, and incorporates tradeoffs between the risk of not ending up with convincing evidence, and thus needing to expand the audit to another round, vs the possibility that a sample might be a fortunate one in which the audit could finish early.\n",
    "\n",
    "Note that if there are additional margins near the \"Max\" margin, samples unfavorable to confirming either one may drive the audit to expand, so a somewhat larger sample size than indicated is prudent.\n",
    "\n",
    "### Initial sample sizes\n",
    "\n",
    "Run analyze_rounds on the `initial-export` data, to get initial sample sizes."
   ]
  },
  {
   "cell_type": "code",
   "execution_count": 5,
   "metadata": {},
   "outputs": [
    {
     "name": "stdout",
     "output_type": "stream",
     "text": [
      "Contest: Assessor, with 3 candidates. 0 samples entered\r\n",
      "\r\n",
      "  358634 reported votes, 0 sample votes for CLAUDE PARRISH\r\n",
      "  90631 reported votes, 0 sample votes for RICHARD B. RAMIREZ\r\n",
      "  70831 reported votes, 0 sample votes for NATHANIEL FERNANDEZ EPSTEIN\r\n",
      "\r\n",
      "       Sample 25: Risk 100.00% with margin: 37.91%; counts W: 358634 L: 161462 w: 0 l: 0 for CLAUDE PARRISH vs pool\r\n",
      "       Sample 9: Risk 100.00% with margin: 65.15%; counts W: 429465 L: 90631 w: 0 l: 0 for pool vs RICHARD B. RAMIREZ\r\n",
      "       Sample 7: Risk 100.00% with margin: 72.76%; counts W: 449265 L: 70831 w: 0 l: 0 for pool vs NATHANIEL FERNANDEZ EPSTEIN\r\n",
      "\r\n",
      "  Max: Sample 25: Risk 100.00% with margin: 37.91%; counts W: 358634 L: 161462 w: 0 l: 0 for CLAUDE PARRISH vs pool\r\n",
      "\r\n",
      "\r\n",
      "Contest: Auditor-Controller, with 2 candidates. 0 samples entered\r\n",
      "\r\n",
      "  369704 reported votes, 0 sample votes for ERIC H. WOOLERY\r\n",
      "  127768 reported votes, 0 sample votes for TONI SMART\r\n",
      "\r\n",
      "       Sample 15: Risk 100.00% with margin: 48.63%; counts W: 369704 L: 127768 w: 0 l: 0 for ERIC H. WOOLERY vs pool\r\n",
      "       Sample 15: Risk 100.00% with margin: 48.63%; counts W: 369704 L: 127768 w: 0 l: 0 for pool vs TONI SMART\r\n",
      "\r\n",
      "  Max: Sample 15: Risk 100.00% with margin: 48.63%; counts W: 369704 L: 127768 w: 0 l: 0 for ERIC H. WOOLERY vs pool\r\n",
      "\r\n",
      "\r\n",
      "Contest: Clerk-Recorder, with 2 candidates. 0 samples entered\r\n",
      "\r\n",
      "  407638 reported votes, 0 sample votes for HUGH NGUYEN\r\n",
      "  107926 reported votes, 0 sample votes for STEVE ROCCO\r\n",
      "\r\n",
      "       Sample 11: Risk 100.00% with margin: 58.13%; counts W: 407638 L: 107926 w: 0 l: 0 for HUGH NGUYEN vs pool\r\n",
      "       Sample 11: Risk 100.00% with margin: 58.13%; counts W: 407638 L: 107926 w: 0 l: 0 for pool vs STEVE ROCCO\r\n",
      "\r\n",
      "  Max: Sample 11: Risk 100.00% with margin: 58.13%; counts W: 407638 L: 107926 w: 0 l: 0 for HUGH NGUYEN vs pool\r\n",
      "\r\n",
      "\r\n",
      "Contest: District Attorney-Public Administrator, with 4 candidates. 0 samples entered\r\n",
      "\r\n",
      "  209148 reported votes, 0 sample votes for TONY RACKAUCKAS\r\n",
      "  191346 reported votes, 0 sample votes for TODD SPITZER\r\n",
      "  121818 reported votes, 0 sample votes for BRETT MURDOCK\r\n",
      "  20890 reported votes, 0 sample votes for LENORE ALBERT-SHERIDAN\r\n",
      "\r\n",
      "       Sample 65: Risk 100.00% with margin: 22.99%; counts W: 334054 L: 209148 w: 0 l: 0 for pool vs TONY RACKAUCKAS\r\n",
      "       Sample 40: Risk 100.00% with margin: 29.55%; counts W: 351856 L: 191346 w: 0 l: 0 for pool vs TODD SPITZER\r\n",
      "       Sample 12: Risk 100.00% with margin: 55.15%; counts W: 421384 L: 121818 w: 0 l: 0 for pool vs BRETT MURDOCK\r\n",
      "       Sample 4: Risk 100.00% with margin: 92.31%; counts W: 522312 L: 20890 w: 0 l: 0 for pool vs LENORE ALBERT-SHERIDAN\r\n",
      "       Sample 50: Risk 100.00% with margin: 26.39%; counts W: 209148 L: 121818 w: 0 l: 0 for TONY RACKAUCKAS vs BRETT MURDOCK\r\n",
      "       Sample 5: Risk 100.00% with margin: 81.84%; counts W: 209148 L: 20890 w: 0 l: 0 for TONY RACKAUCKAS vs LENORE ALBERT-SHERIDAN\r\n",
      "       Sample 69: Risk 100.00% with margin: 22.20%; counts W: 191346 L: 121818 w: 0 l: 0 for TODD SPITZER vs BRETT MURDOCK\r\n",
      "       Sample 6: Risk 100.00% with margin: 80.31%; counts W: 191346 L: 20890 w: 0 l: 0 for TODD SPITZER vs LENORE ALBERT-SHERIDAN\r\n",
      "\r\n",
      "  Max: Sample 69: Risk 100.00% with margin: 22.20%; counts W: 191346 L: 121818 w: 0 l: 0 for TODD SPITZER vs BRETT MURDOCK\r\n",
      "\r\n",
      "\r\n",
      "Contest: Sheriff-Coroner, with 3 candidates. 0 samples entered\r\n",
      "\r\n",
      "  265059 reported votes, 0 sample votes for DON BARNES\r\n",
      "  166848 reported votes, 0 sample votes for DUKE NGUYEN\r\n",
      "  104623 reported votes, 0 sample votes for DAVID C. HARRINGTON\r\n",
      "\r\n",
      "       Sample 22621: Risk 100.00% with margin: 1.20%; counts W: 271471 L: 265059 w: 0 l: 0 for pool vs DON BARNES\r\n",
      "       Sample 25: Risk 100.00% with margin: 37.80%; counts W: 369682 L: 166848 w: 0 l: 0 for pool vs DUKE NGUYEN\r\n",
      "       Sample 10: Risk 100.00% with margin: 61.00%; counts W: 431907 L: 104623 w: 0 l: 0 for pool vs DAVID C. HARRINGTON\r\n",
      "       Sample 19: Risk 100.00% with margin: 43.40%; counts W: 265059 L: 104623 w: 0 l: 0 for DON BARNES vs DAVID C. HARRINGTON\r\n",
      "       Sample 65: Risk 100.00% with margin: 22.92%; counts W: 166848 L: 104623 w: 0 l: 0 for DUKE NGUYEN vs DAVID C. HARRINGTON\r\n",
      "\r\n",
      "  Max: Sample 22621: Risk 100.00% with margin: 1.20%; counts W: 271471 L: 265059 w: 0 l: 0 for pool vs DON BARNES\r\n",
      "\r\n",
      "\r\n"
     ]
    }
   ],
   "source": [
    "!python3 ../src/rla_utils/analyze_rounds.py contests.json initial-export"
   ]
  },
  {
   "cell_type": "markdown",
   "metadata": {},
   "source": [
    "### Final risk levels and sample sizes for other contests\n",
    "\n",
    "Run analyze_rounds on the `final-export` data, to confirm that the risk limit was met for 3 contests, and calculate how many additional samples might meet the risk limit for the other contests."
   ]
  },
  {
   "cell_type": "code",
   "execution_count": 6,
   "metadata": {},
   "outputs": [
    {
     "name": "stdout",
     "output_type": "stream",
     "text": [
      "Contest: Assessor, with 3 candidates. 160 samples entered\r\n",
      "\r\n",
      "  358634 reported votes, 40 sample votes for CLAUDE PARRISH\r\n",
      "  90631 reported votes, 11 sample votes for RICHARD B. RAMIREZ\r\n",
      "  70831 reported votes, 12 sample votes for NATHANIEL FERNANDEZ EPSTEIN\r\n",
      "\r\n",
      "       Sample 0: Risk 15.02% with margin: 37.91%; counts W: 358634 L: 161462 w: 40 l: 23 for CLAUDE PARRISH vs pool\r\n",
      "       Sample 0: Risk 0.00% with margin: 65.15%; counts W: 429465 L: 90631 w: 52 l: 11 for pool vs RICHARD B. RAMIREZ\r\n",
      "       Sample 0: Risk 0.00% with margin: 72.76%; counts W: 449265 L: 70831 w: 51 l: 12 for pool vs NATHANIEL FERNANDEZ EPSTEIN\r\n",
      "\r\n",
      "  Max: Sample 0: Risk 15.02% with margin: 37.91%; counts W: 358634 L: 161462 w: 40 l: 23 for CLAUDE PARRISH vs pool\r\n",
      "\r\n",
      "\r\n",
      "Contest: Auditor-Controller, with 2 candidates. 160 samples entered\r\n",
      "\r\n",
      "  369704 reported votes, 46 sample votes for ERIC H. WOOLERY\r\n",
      "  127768 reported votes, 17 sample votes for TONI SMART\r\n",
      "\r\n",
      "       Sample 0: Risk 0.10% with margin: 48.63%; counts W: 369704 L: 127768 w: 46 l: 17 for ERIC H. WOOLERY vs pool\r\n",
      "       Sample 0: Risk 0.10% with margin: 48.63%; counts W: 369704 L: 127768 w: 46 l: 17 for pool vs TONI SMART\r\n",
      "\r\n",
      "  Max: Sample 0: Risk 0.10% with margin: 48.63%; counts W: 369704 L: 127768 w: 46 l: 17 for ERIC H. WOOLERY vs pool\r\n",
      "\r\n",
      "\r\n",
      "Contest: Clerk-Recorder, with 2 candidates. 160 samples entered\r\n",
      "\r\n",
      "  407638 reported votes, 38 sample votes for HUGH NGUYEN\r\n",
      "  107926 reported votes, 15 sample votes for STEVE ROCCO\r\n",
      "\r\n",
      "       Sample 0: Risk 1.29% with margin: 58.13%; counts W: 407638 L: 107926 w: 38 l: 15 for HUGH NGUYEN vs pool\r\n",
      "       Sample 0: Risk 1.29% with margin: 58.13%; counts W: 407638 L: 107926 w: 38 l: 15 for pool vs STEVE ROCCO\r\n",
      "\r\n",
      "  Max: Sample 0: Risk 1.29% with margin: 58.13%; counts W: 407638 L: 107926 w: 38 l: 15 for HUGH NGUYEN vs pool\r\n",
      "\r\n",
      "\r\n",
      "Contest: District Attorney-Public Administrator, with 4 candidates. 160 samples entered\r\n",
      "\r\n",
      "  209148 reported votes, 22 sample votes for TONY RACKAUCKAS\r\n",
      "  191346 reported votes, 23 sample votes for TODD SPITZER\r\n",
      "  121818 reported votes, 9 sample votes for BRETT MURDOCK\r\n",
      "  20890 reported votes, 6 sample votes for LENORE ALBERT-SHERIDAN\r\n",
      "\r\n",
      "       Sample 0: Risk 12.05% with margin: 22.99%; counts W: 334054 L: 209148 w: 38 l: 22 for pool vs TONY RACKAUCKAS\r\n",
      "       Sample 5: Risk 21.80% with margin: 29.55%; counts W: 351856 L: 191346 w: 37 l: 23 for pool vs TODD SPITZER\r\n",
      "       Sample 0: Risk 0.00% with margin: 55.15%; counts W: 421384 L: 121818 w: 51 l: 9 for pool vs BRETT MURDOCK\r\n",
      "       Sample 0: Risk 0.00% with margin: 92.31%; counts W: 522312 L: 20890 w: 54 l: 6 for pool vs LENORE ALBERT-SHERIDAN\r\n",
      "       Sample 0: Risk 9.12% with margin: 26.39%; counts W: 209148 L: 121818 w: 22 l: 9 for TONY RACKAUCKAS vs BRETT MURDOCK\r\n",
      "       Sample 0: Risk 5.39% with margin: 81.84%; counts W: 209148 L: 20890 w: 22 l: 6 for TONY RACKAUCKAS vs LENORE ALBERT-SHERIDAN\r\n",
      "       Sample 0: Risk 9.52% with margin: 22.20%; counts W: 191346 L: 121818 w: 23 l: 9 for TODD SPITZER vs BRETT MURDOCK\r\n",
      "       Sample 0: Risk 2.22% with margin: 80.31%; counts W: 191346 L: 20890 w: 23 l: 6 for TODD SPITZER vs LENORE ALBERT-SHERIDAN\r\n",
      "\r\n",
      "  Max: Sample 5: Risk 21.80% with margin: 29.55%; counts W: 351856 L: 191346 w: 37 l: 23 for pool vs TODD SPITZER\r\n",
      "\r\n",
      "\r\n",
      "Contest: Sheriff-Coroner, with 3 candidates. 160 samples entered\r\n",
      "\r\n",
      "  265059 reported votes, 28 sample votes for DON BARNES\r\n",
      "  166848 reported votes, 23 sample votes for DUKE NGUYEN\r\n",
      "  104623 reported votes, 10 sample votes for DAVID C. HARRINGTON\r\n",
      "\r\n",
      "       Sample 21845: Risk 94.61% with margin: 1.20%; counts W: 271471 L: 265059 w: 33 l: 28 for pool vs DON BARNES\r\n",
      "       Sample 7: Risk 28.28% with margin: 37.80%; counts W: 369682 L: 166848 w: 38 l: 23 for pool vs DUKE NGUYEN\r\n",
      "       Sample 0: Risk 0.00% with margin: 61.00%; counts W: 431907 L: 104623 w: 51 l: 10 for pool vs DAVID C. HARRINGTON\r\n",
      "       Sample 0: Risk 1.23% with margin: 43.40%; counts W: 265059 L: 104623 w: 28 l: 10 for DON BARNES vs DAVID C. HARRINGTON\r\n",
      "       Sample 0: Risk 11.73% with margin: 22.92%; counts W: 166848 L: 104623 w: 23 l: 10 for DUKE NGUYEN vs DAVID C. HARRINGTON\r\n",
      "\r\n",
      "  Max: Sample 21845: Risk 94.61% with margin: 1.20%; counts W: 271471 L: 265059 w: 33 l: 28 for pool vs DON BARNES\r\n",
      "\r\n",
      "\r\n"
     ]
    }
   ],
   "source": [
    "!python3 ../src/rla_utils/analyze_rounds.py contests.json final-export"
   ]
  }
 ],
 "metadata": {
  "kernelspec": {
   "display_name": "Python 3",
   "language": "python",
   "name": "python3"
  },
  "language_info": {
   "codemirror_mode": {
    "name": "ipython",
    "version": 3
   },
   "file_extension": ".py",
   "mimetype": "text/x-python",
   "name": "python",
   "nbconvert_exporter": "python",
   "pygments_lexer": "ipython3",
   "version": "3.6.6"
  },
  "toc": {
   "colors": {
    "hover_highlight": "#DAA520",
    "running_highlight": "#FF0000",
    "selected_highlight": "#FFD700"
   },
   "moveMenuLeft": true,
   "nav_menu": {
    "height": "12px",
    "width": "252px"
   },
   "navigate_menu": true,
   "number_sections": true,
   "sideBar": true,
   "threshold": 4,
   "toc_cell": false,
   "toc_section_display": "block",
   "toc_window_display": false,
   "widenNotebook": false
  }
 },
 "nbformat": 4,
 "nbformat_minor": 2
}
