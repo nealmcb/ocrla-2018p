{
 "cells": [
  {
   "cell_type": "markdown",
   "metadata": {},
   "source": [
    "# Orange County Risk-Limiting Audit for 2018 Primary Election"
   ]
  },
  {
   "cell_type": "markdown",
   "metadata": {},
   "source": [
    "This jupyter notebook demonstrates the analysis of the audits of 5 contests in the Orange County California 2018 primary election.\n",
    "\n",
    "Three of the five contests were used to drive a risk-limiting audit, and all achieved the risk limit of 20%: Assessor, Auditor-Controller, and Clerk-Recorder.\n",
    "\n",
    "Two contests were audited opportunistically: District Attorney-Public Administrator and Sheriff-Coroner.\n",
    "\n",
    "See the [README](../README.md) for the methodology."
   ]
  },
  {
   "cell_type": "markdown",
   "metadata": {},
   "source": [
    "## Download contest results from Orange County elections website"
   ]
  },
  {
   "cell_type": "code",
   "execution_count": 1,
   "metadata": {
    "scrolled": false
   },
   "outputs": [
    {
     "name": "stdout",
     "output_type": "stream",
     "text": [
      "Archive:  media.zip\n",
      "  inflating: contest_table.txt       \n"
     ]
    }
   ],
   "source": [
    "%%bash\n",
    "wget -nv -N http://ocvote.com/fileadmin/live/pri2018/media.zip\n",
    "unzip -o media.zip"
   ]
  },
  {
   "cell_type": "markdown",
   "metadata": {},
   "source": [
    "## Parse the contest results\n",
    "Generate `contests.json` and `cvr.csv` files."
   ]
  },
  {
   "cell_type": "code",
   "execution_count": 2,
   "metadata": {},
   "outputs": [],
   "source": [
    "!python3 ../src/rla_utils/parse_hart.py -C '[12, 13, 14, 15, 16]' contest_table.txt > parse_hart.out\n",
    "\n",
    "!mv /tmp/cvr.csv /tmp/contests.json ."
   ]
  },
  {
   "cell_type": "markdown",
   "metadata": {},
   "source": [
    "## Run the audit\n",
    "The results of the audit have been exported from RLATool via `rla_export`, and pre-loaded into this repository as `export/all_contest_audit_details_by_cvr.json`."
   ]
  },
  {
   "cell_type": "markdown",
   "metadata": {},
   "source": [
    "## Calculate risk levels\n",
    "Analyze the contest results in the sampled ballots"
   ]
  },
  {
   "cell_type": "code",
   "execution_count": 3,
   "metadata": {},
   "outputs": [
    {
     "name": "stdout",
     "output_type": "stream",
     "text": [
      "Contest: Assessor, with 3 candidates. 160 samples entered\r\n",
      "\r\n",
      "  358634 reported votes, 40 sample votes for CLAUDE PARRISH\r\n",
      "  90631 reported votes, 11 sample votes for RICHARD B. RAMIREZ\r\n",
      "  70831 reported votes, 12 sample votes for NATHANIEL FERNANDEZ EPSTEIN\r\n",
      "\r\n",
      "       Sample 0: Risk 15.02% with margin: 37.91%; counts W: 358634 L: 161462 w: 40 l: 23 for CLAUDE PARRISH vs pool\r\n",
      "       Sample 0: Risk 0.00% with margin: 65.15%; counts W: 429465 L: 90631 w: 52 l: 11 for pool vs RICHARD B. RAMIREZ\r\n",
      "       Sample 0: Risk 0.00% with margin: 72.76%; counts W: 449265 L: 70831 w: 51 l: 12 for pool vs NATHANIEL FERNANDEZ EPSTEIN\r\n",
      "\r\n",
      "  Max: Sample 0: Risk 15.02% with margin: 37.91%; counts W: 358634 L: 161462 w: 40 l: 23 for CLAUDE PARRISH vs pool\r\n",
      "\r\n",
      "\r\n",
      "Contest: Auditor-Controller, with 2 candidates. 160 samples entered\r\n",
      "\r\n",
      "  369704 reported votes, 46 sample votes for ERIC H. WOOLERY\r\n",
      "  127768 reported votes, 17 sample votes for TONI SMART\r\n",
      "\r\n",
      "       Sample 0: Risk 0.10% with margin: 48.63%; counts W: 369704 L: 127768 w: 46 l: 17 for ERIC H. WOOLERY vs pool\r\n",
      "       Sample 0: Risk 0.10% with margin: 48.63%; counts W: 369704 L: 127768 w: 46 l: 17 for pool vs TONI SMART\r\n",
      "\r\n",
      "  Max: Sample 0: Risk 0.10% with margin: 48.63%; counts W: 369704 L: 127768 w: 46 l: 17 for ERIC H. WOOLERY vs pool\r\n",
      "\r\n",
      "\r\n",
      "Contest: Clerk-Recorder, with 2 candidates. 160 samples entered\r\n",
      "\r\n",
      "  407638 reported votes, 38 sample votes for HUGH NGUYEN\r\n",
      "  107926 reported votes, 15 sample votes for STEVE ROCCO\r\n",
      "\r\n",
      "       Sample 0: Risk 1.29% with margin: 58.13%; counts W: 407638 L: 107926 w: 38 l: 15 for HUGH NGUYEN vs pool\r\n",
      "       Sample 0: Risk 1.29% with margin: 58.13%; counts W: 407638 L: 107926 w: 38 l: 15 for pool vs STEVE ROCCO\r\n",
      "\r\n",
      "  Max: Sample 0: Risk 1.29% with margin: 58.13%; counts W: 407638 L: 107926 w: 38 l: 15 for HUGH NGUYEN vs pool\r\n",
      "\r\n",
      "\r\n",
      "Contest: District Attorney-Public Administrator, with 4 candidates. 160 samples entered\r\n",
      "\r\n",
      "  209148 reported votes, 22 sample votes for TONY RACKAUCKAS\r\n",
      "  191346 reported votes, 23 sample votes for TODD SPITZER\r\n",
      "  121818 reported votes, 9 sample votes for BRETT MURDOCK\r\n",
      "  20890 reported votes, 6 sample votes for LENORE ALBERT-SHERIDAN\r\n",
      "\r\n",
      "       Sample 0: Risk 12.05% with margin: 22.99%; counts W: 334054 L: 209148 w: 38 l: 22 for pool vs TONY RACKAUCKAS\r\n",
      "       Sample 5: Risk 21.80% with margin: 29.55%; counts W: 351856 L: 191346 w: 37 l: 23 for pool vs TODD SPITZER\r\n",
      "       Sample 0: Risk 0.00% with margin: 55.15%; counts W: 421384 L: 121818 w: 51 l: 9 for pool vs BRETT MURDOCK\r\n",
      "       Sample 0: Risk 0.00% with margin: 92.31%; counts W: 522312 L: 20890 w: 54 l: 6 for pool vs LENORE ALBERT-SHERIDAN\r\n",
      "       Sample 0: Risk 9.12% with margin: 26.39%; counts W: 209148 L: 121818 w: 22 l: 9 for TONY RACKAUCKAS vs BRETT MURDOCK\r\n",
      "       Sample 0: Risk 5.39% with margin: 81.84%; counts W: 209148 L: 20890 w: 22 l: 6 for TONY RACKAUCKAS vs LENORE ALBERT-SHERIDAN\r\n",
      "       Sample 0: Risk 9.52% with margin: 22.20%; counts W: 191346 L: 121818 w: 23 l: 9 for TODD SPITZER vs BRETT MURDOCK\r\n",
      "       Sample 0: Risk 2.22% with margin: 80.31%; counts W: 191346 L: 20890 w: 23 l: 6 for TODD SPITZER vs LENORE ALBERT-SHERIDAN\r\n",
      "\r\n",
      "  Max: Sample 5: Risk 21.80% with margin: 29.55%; counts W: 351856 L: 191346 w: 37 l: 23 for pool vs TODD SPITZER\r\n",
      "\r\n",
      "\r\n",
      "Contest: Sheriff-Coroner, with 3 candidates. 160 samples entered\r\n",
      "\r\n",
      "  265059 reported votes, 28 sample votes for DON BARNES\r\n",
      "  166848 reported votes, 23 sample votes for DUKE NGUYEN\r\n",
      "  104623 reported votes, 10 sample votes for DAVID C. HARRINGTON\r\n",
      "\r\n",
      "       Sample 21845: Risk 94.61% with margin: 1.20%; counts W: 271471 L: 265059 w: 33 l: 28 for pool vs DON BARNES\r\n",
      "       Sample 7: Risk 28.28% with margin: 37.80%; counts W: 369682 L: 166848 w: 38 l: 23 for pool vs DUKE NGUYEN\r\n",
      "       Sample 0: Risk 0.00% with margin: 61.00%; counts W: 431907 L: 104623 w: 51 l: 10 for pool vs DAVID C. HARRINGTON\r\n",
      "       Sample 0: Risk 1.23% with margin: 43.40%; counts W: 265059 L: 104623 w: 28 l: 10 for DON BARNES vs DAVID C. HARRINGTON\r\n",
      "       Sample 0: Risk 11.73% with margin: 22.92%; counts W: 166848 L: 104623 w: 23 l: 10 for DUKE NGUYEN vs DAVID C. HARRINGTON\r\n",
      "\r\n",
      "  Max: Sample 21845: Risk 94.61% with margin: 1.20%; counts W: 271471 L: 265059 w: 33 l: 28 for pool vs DON BARNES\r\n",
      "\r\n",
      "\r\n"
     ]
    }
   ],
   "source": [
    "!python3 ../src/rla_utils/analyze_rounds.py contests.json export 2> analyze_rounds.detail"
   ]
  }
 ],
 "metadata": {
  "kernelspec": {
   "display_name": "Python 3",
   "language": "python",
   "name": "python3"
  },
  "language_info": {
   "codemirror_mode": {
    "name": "ipython",
    "version": 3
   },
   "file_extension": ".py",
   "mimetype": "text/x-python",
   "name": "python",
   "nbconvert_exporter": "python",
   "pygments_lexer": "ipython3",
   "version": "3.6.6"
  },
  "toc": {
   "colors": {
    "hover_highlight": "#DAA520",
    "running_highlight": "#FF0000",
    "selected_highlight": "#FFD700"
   },
   "moveMenuLeft": true,
   "nav_menu": {
    "height": "12px",
    "width": "252px"
   },
   "navigate_menu": true,
   "number_sections": true,
   "sideBar": true,
   "threshold": 4,
   "toc_cell": false,
   "toc_section_display": "block",
   "toc_window_display": false,
   "widenNotebook": false
  }
 },
 "nbformat": 4,
 "nbformat_minor": 2
}
