{
 "cells": [
  {
   "cell_type": "markdown",
   "metadata": {},
   "source": [
    "**Bayesian risk estimation for Atty-Public Admin**\n",
    "(Orange County, CA, 2018)\n",
    "\n",
    "Based on email from Neal McBurnett, and Orange County Audit report."
   ]
  },
  {
   "cell_type": "markdown",
   "metadata": {},
   "source": [
    "Written by Ron Rivest 11/3/2018.  (MIT License for code.)"
   ]
  },
  {
   "cell_type": "markdown",
   "metadata": {},
   "source": [
    "See [https://arxiv.org/abs/1801.00528] (\"Bayesian Tabulation Audits Explained and Extended\")"
   ]
  },
  {
   "cell_type": "markdown",
   "metadata": {},
   "source": [
    "Four candidates: R, S, M, A (first initial of last name only).\n",
    "Reported vote counts:\n",
    "\n",
    "     R: 209,148\n",
    "     S: 191,346\n",
    "     M: 121,818\n",
    "     A: 20,890\n",
    "     total: 543,202\n",
    "     \n",
    "     "
   ]
  },
  {
   "cell_type": "markdown",
   "metadata": {},
   "source": [
    "**Voting Rule:** If one candidate wins a majority,then they win.  Else the top 2 go on to general election.\n"
   ]
  },
  {
   "cell_type": "markdown",
   "metadata": {},
   "source": [
    "**Caveats** The code has some minor approximations that shouldn't matter,\n",
    "and that make the code shorter, e.g. using Dirichlet approximation rather\n",
    "than Dirichlet-multinomial (OK since sample is very small compared to\n",
    "total number of votes).  It also uses a Haldane prior (setting all pseudocounts to 0)\n",
    "(OK I believe since sample contains all candidates).  Code could be tweaked\n",
    "easily for a slightly different Bayesian approach.\n"
   ]
  },
  {
   "cell_type": "code",
   "execution_count": 1,
   "metadata": {
    "collapsed": true
   },
   "outputs": [],
   "source": [
    "import numpy as np\n",
    "def gamma(x):\n",
    "    \"\"\" Return usual gamma(x), made 'safe' by returning 0 on 0 input. \"\"\"\n",
    "    if x<=0:\n",
    "        return 0\n",
    "    else:\n",
    "        return np.random.gamma(x)"
   ]
  },
  {
   "cell_type": "code",
   "execution_count": 2,
   "metadata": {
    "collapsed": true
   },
   "outputs": [],
   "source": [
    "def contest_outcome(tally):\n",
    "    \"\"\" \n",
    "    Return outcome for given tally.\n",
    "    \n",
    "    tally is dict mapping candidates to vote counts.\n",
    "    \"\"\"\n",
    "    \n",
    "    total_votes = sum([tally[c] for c in tally])\n",
    "    for c in tally:\n",
    "        if tally[c] > total_votes/2:\n",
    "            return c\n",
    "    L = sorted([(tally[c],c) for c in tally], reverse=True)\n",
    "    return tuple(sorted([L[0][1], L[1][1]]))              "
   ]
  },
  {
   "cell_type": "code",
   "execution_count": 3,
   "metadata": {},
   "outputs": [
    {
     "name": "stdout",
     "output_type": "stream",
     "text": [
      "Election tally: {'R': 209148, 'S': 191346, 'M': 121918, 'A': 20890}\n",
      "Reported election outcome: ('R', 'S')\n",
      "\n",
      "Sample tally: {'R': 22, 'S': 23, 'M': 9, 'A': 6}\n",
      "Election outcome on sample: ('R', 'S')\n"
     ]
    }
   ],
   "source": [
    "# check outcome for actual election: should be ('R', 'S')\n",
    "tally = {\"R\":209148, \"S\":191346, \"M\":121918, \"A\":20890}\n",
    "print(\"Election tally:\", tally)\n",
    "print(\"Reported election outcome:\", contest_outcome(tally))\n",
    "print()\n",
    "# following sample tally from Neal's email\n",
    "sample_tally = {\"R\":22, \"S\":23, \"M\":9, \"A\":6}\n",
    "print(\"Sample tally:\", sample_tally)\n",
    "print(\"Election outcome on sample:\", contest_outcome(sample_tally))"
   ]
  },
  {
   "cell_type": "code",
   "execution_count": 7,
   "metadata": {},
   "outputs": [
    {
     "name": "stdout",
     "output_type": "stream",
     "text": [
      "Outcome         Percent\n",
      "  ('R', 'S')     93.52\n",
      "  S               3.38\n",
      "  R               1.82\n",
      "  ('M', 'S')      0.71\n",
      "  ('M', 'R')      0.48\n",
      "  ('A', 'S')      0.06\n",
      "  ('A', 'R')      0.04\n",
      "  ('A', 'M')      0.00\n"
     ]
    }
   ],
   "source": [
    "n_trials = 1000000\n",
    "count = {}\n",
    "for trial in range(n_trials):\n",
    "    sample_tally2 = {c:gamma(sample_tally[c]) \n",
    "                     for c in sample_tally}\n",
    "    trial_outcome = contest_outcome(sample_tally2)\n",
    "    count[trial_outcome] = 1+count.get(trial_outcome, 0)\n",
    "L = sorted([(count[outcome], outcome) for outcome in count], \n",
    "           reverse=True)\n",
    "print(\"Outcome         Percent\")\n",
    "for cnt, outcome in L:\n",
    "    print(\"  {:13s}  {:5.2f}\"\n",
    "          .format(str(outcome), 100*cnt/n_trials))"
   ]
  },
  {
   "cell_type": "code",
   "execution_count": null,
   "metadata": {
    "collapsed": true
   },
   "outputs": [],
   "source": []
  }
 ],
 "metadata": {
  "kernelspec": {
   "display_name": "Python 3",
   "language": "python",
   "name": "python3"
  },
  "language_info": {
   "codemirror_mode": {
    "name": "ipython",
    "version": 3
   },
   "file_extension": ".py",
   "mimetype": "text/x-python",
   "name": "python",
   "nbconvert_exporter": "python",
   "pygments_lexer": "ipython3",
   "version": "3.6.6"
  }
 },
 "nbformat": 4,
 "nbformat_minor": 2
}
